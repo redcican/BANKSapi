{
  "nbformat": 4,
  "nbformat_minor": 0,
  "metadata": {
    "colab": {
      "name": "2. Classification Vendor Payment.ipynb",
      "version": "0.3.2",
      "provenance": [],
      "collapsed_sections": [],
      "include_colab_link": true
    },
    "kernelspec": {
      "display_name": "Python 3",
      "language": "python",
      "name": "python3"
    }
  },
  "cells": [
    {
      "cell_type": "markdown",
      "metadata": {
        "id": "view-in-github",
        "colab_type": "text"
      },
      "source": [
        "[View in Colaboratory](https://colab.research.google.com/github/redcican/BANKSapi/blob/master/2_Classification_Vendor_Payment.ipynb)"
      ]
    },
    {
      "metadata": {
        "id": "vt16EO2ozWsc",
        "colab_type": "text"
      },
      "cell_type": "markdown",
      "source": [
        "# Classification Problem"
      ]
    },
    {
      "metadata": {
        "id": "p3qhSEoFzWsf",
        "colab_type": "text"
      },
      "cell_type": "markdown",
      "source": [
        "In the previous notebook, I hvae walked through the traditional NLP methods such as **CountVectorizer**, **TF-IDF** to extract meaningful features from text data. In this notebook, I will be looking at more advanced feature enginneering strategies which often leverage **Deep Learning** models. More specifically I will be covering the [**GloVe**](https://nlp.stanford.edu/projects/glove/)."
      ]
    },
    {
      "metadata": {
        "id": "LF7f8xWdzWsg",
        "colab_type": "code",
        "colab": {}
      },
      "cell_type": "code",
      "source": [
        "# General\n",
        "import numpy as np\n",
        "import pandas as pd\n",
        "import os\n",
        "import string\n",
        "\n",
        "# Pre-Processing\n",
        "import nltk\n",
        "import string\n",
        "from nltk.tokenize import RegexpTokenizer\n",
        "from nltk.corpus import stopwords\n",
        "import re\n",
        "from nltk.stem import PorterStemmer\n",
        "from nltk.util import ngrams\n",
        "from collections import Counter\n",
        "from gensim.models import word2vec\n",
        "\n",
        "# visualization\n",
        "import matplotlib.pyplot as plt\n",
        "%matplotlib inline\n",
        "plt.style.use('fivethirtyeight')\n",
        "\n",
        "# model selection\n",
        "from sklearn.model_selection import train_test_split\n",
        "\n",
        "# keras for deep learning\n",
        "from keras.models import Sequential\n",
        "from keras.layers.recurrent import LSTM\n",
        "from keras.layers.core import Dense, Activation, Dropout\n",
        "from keras.layers.embeddings import Embedding\n",
        "from keras.layers.normalization import BatchNormalization\n",
        "from keras.utils import np_utils\n",
        "from keras.layers import GlobalMaxPooling1D, Conv1D, MaxPooling1D, Flatten, Bidirectional, SpatialDropout1D\n",
        "from keras.preprocessing import sequence, text\n",
        "from keras.callbacks import EarlyStopping\n",
        "\n",
        "# model save and reload\n",
        "import pickle\n",
        "from tqdm import tqdm\n",
        "# Warnings\n",
        "import warnings\n",
        "warnings.filterwarnings('ignore')"
      ],
      "execution_count": 0,
      "outputs": []
    },
    {
      "metadata": {
        "id": "Vyx3rTDQzWsl",
        "colab_type": "text"
      },
      "cell_type": "markdown",
      "source": [
        "## 1. Import the data  \n",
        "\n",
        "Because this task only requires two varialbes, `Recipient` and `Description` and a flexible combination of `AgyCode` and `SubObject`. We will only use this columns in this notebook"
      ]
    },
    {
      "metadata": {
        "id": "dfpmuWwjzWsn",
        "colab_type": "code",
        "colab": {},
        "outputId": "0d87c15d-9cd4-4946-f6f0-b98584650641"
      },
      "cell_type": "code",
      "source": [
        "pd.set_option('max_colwidth', 500)\n",
        "df = pd.read_csv('state_vendor_payment.csv',usecols=['AgyCode','SubObject','Recipient','Description'])\n",
        "df.head()"
      ],
      "execution_count": 0,
      "outputs": [
        {
          "output_type": "execute_result",
          "data": {
            "text/html": [
              "<div>\n",
              "<style scoped>\n",
              "    .dataframe tbody tr th:only-of-type {\n",
              "        vertical-align: middle;\n",
              "    }\n",
              "\n",
              "    .dataframe tbody tr th {\n",
              "        vertical-align: top;\n",
              "    }\n",
              "\n",
              "    .dataframe thead th {\n",
              "        text-align: right;\n",
              "    }\n",
              "</style>\n",
              "<table border=\"1\" class=\"dataframe\">\n",
              "  <thead>\n",
              "    <tr style=\"text-align: right;\">\n",
              "      <th></th>\n",
              "      <th>AgyCode</th>\n",
              "      <th>SubObject</th>\n",
              "      <th>Recipient</th>\n",
              "      <th>Description</th>\n",
              "    </tr>\n",
              "  </thead>\n",
              "  <tbody>\n",
              "    <tr>\n",
              "      <th>0</th>\n",
              "      <td>10</td>\n",
              "      <td>CC</td>\n",
              "      <td>MONTAGUE DEROSE &amp; ASSOCIATES LLC</td>\n",
              "      <td>The amounts expended for financial services, actuarial services, economic analysis, cost/benefit analysis, cost allocation, accounting and financial audit services. Also includes investment management, cash management and stockbroker services.</td>\n",
              "    </tr>\n",
              "    <tr>\n",
              "      <th>1</th>\n",
              "      <td>10</td>\n",
              "      <td>CB</td>\n",
              "      <td>FOSTER PEPPER PLLC</td>\n",
              "      <td>The amounts expended for legal services and legal research and consultation by non-state employed attorneys, bond counsel, patent counsel, hearing examiners, etc. Expert witness contracts are for the purpose of providing expert testimony in litigation, but may also include other services such as case consultation, research, and legal services. Does not include services for court reporters, legal aides or lay witnesses, which are classified as purchased services under Subobject ER.</td>\n",
              "    </tr>\n",
              "    <tr>\n",
              "      <th>2</th>\n",
              "      <td>10</td>\n",
              "      <td>ER</td>\n",
              "      <td>FITCH INC</td>\n",
              "      <td>The amounts expended for contractual services provided to accomplish routine, continuing and necessary functions not otherwise specifically mentioned or included under the other subobjects within Object E “Goods and Services,” Object C “Personal Service Contracts,” Object N “Grants, Benefits, and Client Services,” or Subobject JK “Architectural and Engineering Services.” Other contractual services could include, but are not limited to, custodial, interagency, court reporters, lay witnesses, ...</td>\n",
              "    </tr>\n",
              "    <tr>\n",
              "      <th>3</th>\n",
              "      <td>10</td>\n",
              "      <td>ER</td>\n",
              "      <td>MOODYS INVESTORS SERVICE</td>\n",
              "      <td>The amounts expended for contractual services provided to accomplish routine, continuing and necessary functions not otherwise specifically mentioned or included under the other subobjects within Object E “Goods and Services,” Object C “Personal Service Contracts,” Object N “Grants, Benefits, and Client Services,” or Subobject JK “Architectural and Engineering Services.” Other contractual services could include, but are not limited to, custodial, interagency, court reporters, lay witnesses, ...</td>\n",
              "    </tr>\n",
              "    <tr>\n",
              "      <th>4</th>\n",
              "      <td>10</td>\n",
              "      <td>EZ</td>\n",
              "      <td>FEDERAL EXPRESS</td>\n",
              "      <td>The amounts expended for goods and services other than those described above. Includes such items as bonds, freight (when not allocable to items purchased), advertising, and other goods and services from vendors or other agencies.</td>\n",
              "    </tr>\n",
              "  </tbody>\n",
              "</table>\n",
              "</div>"
            ],
            "text/plain": [
              "   AgyCode SubObject  \\\n",
              "0       10        CC   \n",
              "1       10        CB   \n",
              "2       10        ER   \n",
              "3       10        ER   \n",
              "4       10        EZ   \n",
              "\n",
              "                                                                                              Recipient  \\\n",
              "0  MONTAGUE DEROSE & ASSOCIATES LLC                                                                       \n",
              "1  FOSTER PEPPER PLLC                                                                                     \n",
              "2  FITCH INC                                                                                              \n",
              "3  MOODYS INVESTORS SERVICE                                                                               \n",
              "4  FEDERAL EXPRESS                                                                                        \n",
              "\n",
              "                                                                                                                                                                                                                                                                                                                                                                                                                                                                                                           Description  \n",
              "0                                                                                                                                                                                                                                                                 The amounts expended for financial services, actuarial services, economic analysis, cost/benefit analysis, cost allocation, accounting and financial audit services. Also includes investment management, cash management and stockbroker services.   \n",
              "1                The amounts expended for legal services and legal research and consultation by non-state employed attorneys, bond counsel, patent counsel, hearing examiners, etc. Expert witness contracts are for the purpose of providing expert testimony in litigation, but may also include other services such as case consultation, research, and legal services. Does not include services for court reporters, legal aides or lay witnesses, which are classified as purchased services under Subobject ER.  \n",
              "2  The amounts expended for contractual services provided to accomplish routine, continuing and necessary functions not otherwise specifically mentioned or included under the other subobjects within Object E “Goods and Services,” Object C “Personal Service Contracts,” Object N “Grants, Benefits, and Client Services,” or Subobject JK “Architectural and Engineering Services.” Other contractual services could include, but are not limited to, custodial, interagency, court reporters, lay witnesses, ...  \n",
              "3  The amounts expended for contractual services provided to accomplish routine, continuing and necessary functions not otherwise specifically mentioned or included under the other subobjects within Object E “Goods and Services,” Object C “Personal Service Contracts,” Object N “Grants, Benefits, and Client Services,” or Subobject JK “Architectural and Engineering Services.” Other contractual services could include, but are not limited to, custodial, interagency, court reporters, lay witnesses, ...  \n",
              "4                                                                                                                                                                                                                                                                               The amounts expended for goods and services other than those described above. Includes such items as bonds, freight (when not allocable to items purchased), advertising, and other goods and services from vendors or other agencies.  "
            ]
          },
          "metadata": {
            "tags": []
          },
          "execution_count": 31
        }
      ]
    },
    {
      "metadata": {
        "id": "9rplLMk7zWsu",
        "colab_type": "text"
      },
      "cell_type": "markdown",
      "source": [
        "## 2. Explore the target column"
      ]
    },
    {
      "metadata": {
        "id": "AFK_TlP3zWsw",
        "colab_type": "text"
      },
      "cell_type": "markdown",
      "source": [
        "To make task simpler, I decided to merge `AgyCode` and `SubObject` into a new target column called `Agycode-Subobject`"
      ]
    },
    {
      "metadata": {
        "id": "1YHUbjdFzWsx",
        "colab_type": "code",
        "colab": {}
      },
      "cell_type": "code",
      "source": [
        "df[\"Agycode-Subobject\"] = df[\"AgyCode\"].map(str) + df[\"SubObject\"]"
      ],
      "execution_count": 0,
      "outputs": []
    },
    {
      "metadata": {
        "id": "DyxQKzvFzWs0",
        "colab_type": "code",
        "colab": {},
        "outputId": "5b0a9bee-79dc-4d2a-c76d-4d472721dcb9"
      },
      "cell_type": "code",
      "source": [
        "'''\n",
        "nltk.download('stopwords')\n",
        "\n",
        "from nltk.stem.porter import PorterStemmer\n",
        "ps = PorterStemmer()\n",
        "\n",
        "tokenizer = RegexpTokenizer(r'\\w+')\n",
        "stop_words = set(stopwords.words('english'))\n",
        "\n",
        "def preprocessing(data):\n",
        "    txt = data.str.lower().str.cat(sep=' ') #1\n",
        "    words = tokenizer.tokenize(txt) #2\n",
        "    words = [w for w in words if not w in stop_words] #3\n",
        "    return words\n",
        "'''"
      ],
      "execution_count": 0,
      "outputs": [
        {
          "output_type": "stream",
          "text": [
            "[nltk_data] Downloading package stopwords to /home/ubuntu/nltk_data...\n",
            "[nltk_data]   Package stopwords is already up-to-date!\n"
          ],
          "name": "stdout"
        }
      ]
    },
    {
      "metadata": {
        "id": "WbgP8J58zWs3",
        "colab_type": "text"
      },
      "cell_type": "markdown",
      "source": [
        "We can first check the distribution of the labels."
      ]
    },
    {
      "metadata": {
        "id": "7_5X4je2zWs3",
        "colab_type": "code",
        "colab": {},
        "outputId": "1259954a-762d-4842-cb36-d8c8025029de"
      },
      "cell_type": "code",
      "source": [
        "plt.figure(figsize=(10,5))\n",
        "df[\"Agycode-Subobject\"].value_counts().nlargest(30).plot(kind='bar')\n",
        "plt.xlabel('AgyCode-Subobject Frequency')\n",
        "plt.title('Frequence of TOP 30 AgyCode-Subobject distribution',fontsize=12)\n",
        "plt.show()"
      ],
      "execution_count": 0,
      "outputs": [
        {
          "output_type": "display_data",
          "data": {
            "image/png": "[encoded data removed]",
            "text/plain": [
              "<matplotlib.figure.Figure at 0x7fea33c55748>"
            ]
          },
          "metadata": {
            "tags": []
          }
        }
      ]
    },
    {
      "metadata": {
        "id": "GX2-JOAHzWs6",
        "colab_type": "text"
      },
      "cell_type": "markdown",
      "source": [
        "We can see that the distribution of labels is quite heterogeneous. the label `300NB` and `107NB` occupy almost a half of labels, which leads a quite unbalanced classification problem."
      ]
    },
    {
      "metadata": {
        "id": "WBUJ8zJVzWs7",
        "colab_type": "code",
        "colab": {},
        "outputId": "817ede6c-0b77-4fe2-9647-c35b6b8ec159"
      },
      "cell_type": "code",
      "source": [
        "# check the percentile of the 300NB and 107NB\n",
        "sum(df[\"Agycode-Subobject\"].value_counts().nlargest(2))/len(df)"
      ],
      "execution_count": 0,
      "outputs": [
        {
          "output_type": "execute_result",
          "data": {
            "text/plain": [
              "0.4986615310038747"
            ]
          },
          "metadata": {
            "tags": []
          },
          "execution_count": 58
        }
      ]
    },
    {
      "metadata": {
        "id": "EohUWkb7zWs-",
        "colab_type": "text"
      },
      "cell_type": "markdown",
      "source": [
        "Handling such huge and unbalanced labels can be very difficult, so I decide to convert the mutli classes problem to a binary classes problem. I resorted the label `300NB` and `107NB` to label 1 and the remaining lables to 0."
      ]
    },
    {
      "metadata": {
        "id": "jhos3SkyzWs_",
        "colab_type": "code",
        "colab": {}
      },
      "cell_type": "code",
      "source": [
        "df['label'] = (df['Agycode-Subobject'] ==\"300NB\") | (df['Agycode-Subobject'] == \"107NB\")"
      ],
      "execution_count": 0,
      "outputs": []
    },
    {
      "metadata": {
        "id": "-O4ryIkgzWtB",
        "colab_type": "text"
      },
      "cell_type": "markdown",
      "source": [
        "We convert the label to integer."
      ]
    },
    {
      "metadata": {
        "id": "j1bHVwVfzWtC",
        "colab_type": "code",
        "colab": {}
      },
      "cell_type": "code",
      "source": [
        "df['label'] = df['label'].astype(int)"
      ],
      "execution_count": 0,
      "outputs": []
    },
    {
      "metadata": {
        "id": "gnioDoZNzWtF",
        "colab_type": "text"
      },
      "cell_type": "markdown",
      "source": [
        "Now, we can check the distribution of our new labels."
      ]
    },
    {
      "metadata": {
        "id": "j5J7sZKNzWtF",
        "colab_type": "code",
        "colab": {},
        "outputId": "64a02f45-d197-4017-9577-8cbcb52ec417"
      },
      "cell_type": "code",
      "source": [
        "plt.figure(figsize=(10,5))\n",
        "df[\"label\"].value_counts().plot(kind='bar')\n",
        "plt.xlabel('Label Frequency')\n",
        "plt.title('Frequence of label distribution',fontsize=12)\n",
        "plt.show()"
      ],
      "execution_count": 0,
      "outputs": [
        {
          "output_type": "display_data",
          "data": {
            "image/png": "[encoded data removed]",
            "text/plain": [
              "<matplotlib.figure.Figure at 0x7fea33c554e0>"
            ]
          },
          "metadata": {
            "tags": []
          }
        }
      ]
    },
    {
      "metadata": {
        "id": "mbIy2T6NzWtJ",
        "colab_type": "text"
      },
      "cell_type": "markdown",
      "source": [
        "## 3. Feature Engineering  \n",
        "\n",
        "After gaining the sufficient understanding of the data from the EDA of first notebook, we can quickly apply deep learning to our features."
      ]
    },
    {
      "metadata": {
        "id": "CrxXTjFNzWtJ",
        "colab_type": "code",
        "colab": {}
      },
      "cell_type": "code",
      "source": [
        "X = df[['Recipient','Description']]\n",
        "y= np_utils.to_categorical(df['label'],2)"
      ],
      "execution_count": 0,
      "outputs": []
    },
    {
      "metadata": {
        "id": "UCIMauLjzWtM",
        "colab_type": "code",
        "colab": {},
        "outputId": "2192c23e-810b-43c2-86ef-59000e94ac86"
      },
      "cell_type": "code",
      "source": [
        "X_train, X_test, y_train, y_test = train_test_split(X, y,stratify=y,random_state=42, test_size=0.1, shuffle=True)\n",
        "\n",
        "print('X_train shape:', X_train.shape)\n",
        "print('X_test shape:', X_test.shape)\n",
        "print('y_train shape:', y_train.shape)\n",
        "print('y_test shape:' ,y_test.shape)"
      ],
      "execution_count": 0,
      "outputs": [
        {
          "output_type": "stream",
          "text": [
            "X_train shape: (1372052, 2)\n",
            "X_test shape: (152451, 2)\n",
            "y_train shape: (1372052, 2)\n",
            "y_test shape: (152451, 2)\n"
          ],
          "name": "stdout"
        }
      ]
    },
    {
      "metadata": {
        "id": "tArpWJhKzWtQ",
        "colab_type": "text"
      },
      "cell_type": "markdown",
      "source": [
        "Unlike previous notebook by using Scikit-learn, here we use [Keras text preprocessing](https://keras.io/preprocessing/text/). It provides a similar function to extract the feature from text, but more straightforward. We first tokenzize the text to a sequence of integers and then pad them to the same length. "
      ]
    },
    {
      "metadata": {
        "id": "67MtE369zWtQ",
        "colab_type": "code",
        "colab": {}
      },
      "cell_type": "code",
      "source": [
        "token = text.Tokenizer(num_words=10000)\n",
        "max_len_1 = 70\n",
        "max_len_2 = 10\n",
        "token.fit_on_texts(list(X_train.Recipient) + list(X_train.Description))\n",
        "token.fit_on_texts(list(X_test.Recipient) + list(X_test.Description))\n",
        "\n",
        "X_train_Recip = token.texts_to_sequences(X_train.Recipient)\n",
        "X_train_Desc = token.texts_to_sequences(X_train.Description)\n",
        "X_test_Recip = token.texts_to_sequences(X_test.Recipient)\n",
        "X_test_Desc = token.texts_to_sequences(X_test.Description)"
      ],
      "execution_count": 0,
      "outputs": []
    },
    {
      "metadata": {
        "id": "Xa6LuA4IzWtU",
        "colab_type": "code",
        "colab": {}
      },
      "cell_type": "code",
      "source": [
        "X_train_Recip_pad = sequence.pad_sequences(X_train_Recip, maxlen=max_len_2)\n",
        "X_train_Desc_pad = sequence.pad_sequences(X_train_Desc, maxlen=max_len)\n",
        "X_test_Recip_pad = sequence.pad_sequences(X_test_Recip, maxlen=max_len_2)\n",
        "X_test_Desc_pad = sequence.pad_sequences(X_test_Desc, maxlen=max_len)\n",
        "\n",
        "word_index = token.word_index"
      ],
      "execution_count": 0,
      "outputs": []
    },
    {
      "metadata": {
        "id": "fLxvZumAzWtW",
        "colab_type": "code",
        "colab": {}
      },
      "cell_type": "code",
      "source": [
        "'''\n",
        "The following code is used to save word_index \n",
        "locally and reload it.\n",
        "\n",
        "'''\n",
        "pickle.dump(word_index, open('word_index.pkl','wb'),-1)\n",
        "\n",
        "word_index = open('word_index.pkl','rb')\n",
        "word_index = pickle.load(word_index)"
      ],
      "execution_count": 0,
      "outputs": []
    },
    {
      "metadata": {
        "id": "zSzFpksEzWtY",
        "colab_type": "text"
      },
      "cell_type": "markdown",
      "source": [
        "We can use `np.hstack` stack our two features."
      ]
    },
    {
      "metadata": {
        "id": "RZ0W81aXzWtY",
        "colab_type": "code",
        "colab": {},
        "outputId": "ed508a1c-cef3-4091-9dba-a8c6e83d6699"
      },
      "cell_type": "code",
      "source": [
        "X_train = np.hstack((X_train_Recip_pad,X_train_Desc_pad))\n",
        "X_test = np.hstack((X_test_Recip_pad, X_test_Desc_pad))\n",
        "print(X_train.shape)\n",
        "print(X_test.shape)"
      ],
      "execution_count": 0,
      "outputs": [
        {
          "output_type": "stream",
          "text": [
            "(1372052, 80)\n",
            "(152451, 80)\n"
          ],
          "name": "stdout"
        }
      ]
    },
    {
      "metadata": {
        "id": "uz5rcOpUzWtc",
        "colab_type": "code",
        "colab": {}
      },
      "cell_type": "code",
      "source": [
        "'''\n",
        "The following code is used to save X_train \n",
        "and X_test locally and reload it. To load X_train\n",
        "and X_test locally, uncommented the code!\n",
        "\n",
        "'''\n",
        "\n",
        "pickle.dump(X_train, open('X_train.pkl','wb'),-1)\n",
        "pickle.dump(X_test, open('X_test.pkl','wb'),-1)\n",
        "#X_train = open('X_train.pkl','rb')\n",
        "#X_train = pickle.load(X_train)\n",
        "#X_test = open('X_test.pkl','rb')\n",
        "#X_test = pickle.load(X_test)"
      ],
      "execution_count": 0,
      "outputs": []
    },
    {
      "metadata": {
        "id": "d2_UKH-FzWte",
        "colab_type": "text"
      },
      "cell_type": "markdown",
      "source": [
        "The GloVe model stands for **Global Vectors** which is an unsupervised learning model which can be used to obtain dense word vectors. To use it, we should first download it!"
      ]
    },
    {
      "metadata": {
        "id": "GKSyu1JUzWte",
        "colab_type": "code",
        "colab": {},
        "outputId": "df581ba2-7035-4e19-e8fa-f7302fb31ea2"
      },
      "cell_type": "code",
      "source": [
        "'''\n",
        "Download and unzip the GloVe\n",
        "\n",
        "'''\n",
        "\n",
        "!wget https://nlp.stanford.edu/data/wordvecs/glove.42B.300d.zip"
      ],
      "execution_count": 0,
      "outputs": [
        {
          "output_type": "stream",
          "text": [
            "--2018-09-09 18:12:24--  https://nlp.stanford.edu/data/wordvecs/glove.42B.300d.zip\n",
            "Resolving nlp.stanford.edu (nlp.stanford.edu)... 171.64.67.140\n",
            "Connecting to nlp.stanford.edu (nlp.stanford.edu)|171.64.67.140|:443... connected.\n",
            "HTTP request sent, awaiting response... 200 OK\n",
            "Length: 1877802108 (1.7G) [application/zip]\n",
            "Saving to: ‘glove.42B.300d.zip’\n",
            "\n",
            "glove.42B.300d.zip  100%[===================>]   1.75G  18.4MB/s    in 98s     \n",
            "\n",
            "2018-09-09 18:14:03 (18.2 MB/s) - ‘glove.42B.300d.zip’ saved [1877802108/1877802108]\n",
            "\n"
          ],
          "name": "stdout"
        }
      ]
    },
    {
      "metadata": {
        "id": "EjJSOxPAzWtg",
        "colab_type": "code",
        "colab": {},
        "outputId": "709a6b8d-cc80-497c-919c-7388fcf54846"
      },
      "cell_type": "code",
      "source": [
        "!unzip glove.42B.300d.zip"
      ],
      "execution_count": 0,
      "outputs": [
        {
          "output_type": "stream",
          "text": [
            "Archive:  glove.42B.300d.zip\n",
            "  inflating: glove.42B.300d.txt      \n"
          ],
          "name": "stdout"
        }
      ]
    },
    {
      "metadata": {
        "id": "gcUlCLMuzWti",
        "colab_type": "text"
      },
      "cell_type": "markdown",
      "source": [
        "The code below is used to load the Glove vectors in a dictionary."
      ]
    },
    {
      "metadata": {
        "id": "doeR9-XNzWti",
        "colab_type": "code",
        "colab": {},
        "outputId": "2d00c805-9309-4729-b451-2bb61cddc028"
      },
      "cell_type": "code",
      "source": [
        "# load the GloVe vectors in a dictionary:\n",
        "\n",
        "embeddings_index = {}\n",
        "f = open('glove.42B.300d.txt')\n",
        "for line in tqdm(f):\n",
        "    values = line.split()\n",
        "    word = values[0]\n",
        "    coefs = np.asarray(values[1:], dtype='float32')\n",
        "    embeddings_index[word] = coefs\n",
        "f.close()\n",
        "\n",
        "print('Found %s word vectors.' % len(embeddings_index))"
      ],
      "execution_count": 0,
      "outputs": [
        {
          "output_type": "stream",
          "text": [
            "1917495it [02:39, 12048.94it/s]"
          ],
          "name": "stderr"
        },
        {
          "output_type": "stream",
          "text": [
            "Found 1917495 word vectors.\n"
          ],
          "name": "stdout"
        },
        {
          "output_type": "stream",
          "text": [
            "\n"
          ],
          "name": "stderr"
        }
      ]
    },
    {
      "metadata": {
        "id": "X5gPr1W9zWtl",
        "colab_type": "text"
      },
      "cell_type": "markdown",
      "source": [
        "We have to create a embedding matrix to overcome the losing out of semantics and feature sparsity. "
      ]
    },
    {
      "metadata": {
        "id": "-OMAlFxkzWtl",
        "colab_type": "code",
        "colab": {},
        "outputId": "fec12930-a1d7-4a07-8a35-e88170c101e0"
      },
      "cell_type": "code",
      "source": [
        "# create an embedding matrix for the words we have in the dataset\n",
        "embedding_matrix = np.zeros((len(word_index) + 1, 300))\n",
        "for word, i in tqdm(word_index.items()):\n",
        "    embedding_vector = embeddings_index.get(word)\n",
        "    if embedding_vector is not None:\n",
        "        embedding_matrix[i] = embedding_vector"
      ],
      "execution_count": 0,
      "outputs": [
        {
          "output_type": "stream",
          "text": [
            "100%|██████████| 71668/71668 [00:00<00:00, 335736.95it/s]\n"
          ],
          "name": "stderr"
        }
      ]
    },
    {
      "metadata": {
        "id": "L7cuAGpTzWtn",
        "colab_type": "code",
        "colab": {}
      },
      "cell_type": "code",
      "source": [
        "'''\n",
        "As previous, these code is used to save and reload\n",
        "embedding_matrix.\n",
        "\n",
        "'''\n",
        "pickle.dump(embedding_matrix, open('embedding_matrix.pkl','wb'),-1)\n",
        "embedding_matrix = open('embedding_matrix.pkl','rb')\n",
        "embedding_matrix = pickle.load(embedding_matrix)"
      ],
      "execution_count": 0,
      "outputs": []
    },
    {
      "metadata": {
        "id": "JrmUcCjkzWtq",
        "colab_type": "code",
        "colab": {},
        "outputId": "0449ea45-a02a-4e6d-ba90-980366832414"
      },
      "cell_type": "code",
      "source": [
        "embedding_matrix.shape"
      ],
      "execution_count": 0,
      "outputs": [
        {
          "output_type": "execute_result",
          "data": {
            "text/plain": [
              "(71669, 300)"
            ]
          },
          "metadata": {
            "tags": []
          },
          "execution_count": 67
        }
      ]
    },
    {
      "metadata": {
        "id": "eBiwRhn6zWtr",
        "colab_type": "text"
      },
      "cell_type": "markdown",
      "source": [
        "## 4. Deep Learning using LSTM"
      ]
    },
    {
      "metadata": {
        "id": "vbevbRzXzWtt",
        "colab_type": "code",
        "colab": {}
      },
      "cell_type": "code",
      "source": [
        "# A simple LSTM with glove embeddings and two dense layers\n",
        "model = Sequential()\n",
        "model.add(Embedding(len(word_index) + 1,\n",
        "                     300,\n",
        "                     weights=[embedding_matrix],\n",
        "                     input_length=80,\n",
        "                     trainable=False))\n",
        "model.add(SpatialDropout1D(0.3))\n",
        "model.add(LSTM(128, dropout=0.3, recurrent_dropout=0.3))\n",
        "\n",
        "model.add(Dense(128, activation='relu'))\n",
        "model.add(Dropout(0.5))\n",
        "\n",
        "model.add(Dense(256, activation='relu'))\n",
        "model.add(Dropout(0.5))\n",
        "\n",
        "model.add(Dense(512, activation='relu'))\n",
        "model.add(Dropout(0.5))\n",
        "\n",
        "model.add(Dense(2))\n",
        "model.add(Activation('softmax'))\n",
        "\n",
        "# you can uncommented the next line if you have not GPU available. \n",
        "#model.compile(loss='categorical_crossentropy', optimizer='adam',metrics=['accuracy'])"
      ],
      "execution_count": 0,
      "outputs": []
    },
    {
      "metadata": {
        "id": "2QMPf9_gzWtu",
        "colab_type": "text"
      },
      "cell_type": "markdown",
      "source": [
        "The reason why I love Deep Learning is that it can utilize the power of GPUs and accelerate the training process. The following codes only works if you have GPUs available. You can change the parameter `gpus` according to your conditions."
      ]
    },
    {
      "metadata": {
        "id": "DHtSPoT5zWtu",
        "colab_type": "code",
        "colab": {},
        "outputId": "39206cec-8602-46e9-c0a9-67c19f5a6e85"
      },
      "cell_type": "code",
      "source": [
        "from keras.utils import multi_gpu_model\n",
        "\n",
        "# Replicates `model` on 8 GPUs.\n",
        "# This assumes that your machine has 8 available GPUs.\n",
        "parallel_model = multi_gpu_model(model, gpus=8)\n",
        "parallel_model.compile(loss='categorical_crossentropy',\n",
        "                        optimizer='adam',metrics=['accuracy'])\n",
        "\n",
        "# This `fit` call will be distributed on 8 GPUs.\n",
        "# Since the batch size is 256, each GPU will process 32 samples.\n",
        "parallel_model.fit(X_train, y_train, batch_size=128, epochs=2, verbose=2, validation_split=0.1)"
      ],
      "execution_count": 0,
      "outputs": [
        {
          "output_type": "stream",
          "text": [
            "Train on 1234846 samples, validate on 137206 samples\n",
            "Epoch 1/2\n",
            " - 3880s - loss: 0.1073 - acc: 0.9729 - val_loss: 0.1057 - val_acc: 0.9733\n",
            "Epoch 2/2\n",
            " - 3668s - loss: 0.1071 - acc: 0.9729 - val_loss: 0.1056 - val_acc: 0.9733\n"
          ],
          "name": "stdout"
        },
        {
          "output_type": "execute_result",
          "data": {
            "text/plain": [
              "<keras.callbacks.History at 0x7fea3aee5978>"
            ]
          },
          "metadata": {
            "tags": []
          },
          "execution_count": 55
        }
      ]
    },
    {
      "metadata": {
        "id": "1PlES5hJzWtw",
        "colab_type": "text"
      },
      "cell_type": "markdown",
      "source": [
        "After two epochs, we got a validation accuracy of 97%, which is quite well. To reuse the model, we can save it locally."
      ]
    },
    {
      "metadata": {
        "id": "7J6sYhfnzWtx",
        "colab_type": "code",
        "colab": {},
        "outputId": "364ca5c3-1dd4-4cfe-e5e9-6008f40c9e8c"
      },
      "cell_type": "code",
      "source": [
        "import keras\n",
        "my_model = keras.models.load_model('my_model.h5')\n",
        "my_model.summary()"
      ],
      "execution_count": 0,
      "outputs": [
        {
          "output_type": "stream",
          "text": [
            "__________________________________________________________________________________________________\n",
            "Layer (type)                    Output Shape         Param #     Connected to                     \n",
            "==================================================================================================\n",
            "embedding_1_input (InputLayer)  (None, 140)          0                                            \n",
            "__________________________________________________________________________________________________\n",
            "lambda_1 (Lambda)               (None, 140)          0           embedding_1_input[0][0]          \n",
            "__________________________________________________________________________________________________\n",
            "lambda_2 (Lambda)               (None, 140)          0           embedding_1_input[0][0]          \n",
            "__________________________________________________________________________________________________\n",
            "lambda_3 (Lambda)               (None, 140)          0           embedding_1_input[0][0]          \n",
            "__________________________________________________________________________________________________\n",
            "lambda_4 (Lambda)               (None, 140)          0           embedding_1_input[0][0]          \n",
            "__________________________________________________________________________________________________\n",
            "lambda_5 (Lambda)               (None, 140)          0           embedding_1_input[0][0]          \n",
            "__________________________________________________________________________________________________\n",
            "lambda_6 (Lambda)               (None, 140)          0           embedding_1_input[0][0]          \n",
            "__________________________________________________________________________________________________\n",
            "lambda_7 (Lambda)               (None, 140)          0           embedding_1_input[0][0]          \n",
            "__________________________________________________________________________________________________\n",
            "lambda_8 (Lambda)               (None, 140)          0           embedding_1_input[0][0]          \n",
            "__________________________________________________________________________________________________\n",
            "sequential_3 (Sequential)       (None, 2)            21902494    lambda_1[0][0]                   \n",
            "                                                                 lambda_2[0][0]                   \n",
            "                                                                 lambda_3[0][0]                   \n",
            "                                                                 lambda_4[0][0]                   \n",
            "                                                                 lambda_5[0][0]                   \n",
            "                                                                 lambda_6[0][0]                   \n",
            "                                                                 lambda_7[0][0]                   \n",
            "                                                                 lambda_8[0][0]                   \n",
            "__________________________________________________________________________________________________\n",
            "activation_1 (Concatenate)      (None, 2)            0           sequential_3[1][0]               \n",
            "                                                                 sequential_3[2][0]               \n",
            "                                                                 sequential_3[3][0]               \n",
            "                                                                 sequential_3[4][0]               \n",
            "                                                                 sequential_3[5][0]               \n",
            "                                                                 sequential_3[6][0]               \n",
            "                                                                 sequential_3[7][0]               \n",
            "                                                                 sequential_3[8][0]               \n",
            "==================================================================================================\n",
            "Total params: 21,902,494\n",
            "Trainable params: 401,794\n",
            "Non-trainable params: 21,500,700\n",
            "__________________________________________________________________________________________________\n"
          ],
          "name": "stdout"
        }
      ]
    },
    {
      "metadata": {
        "id": "dyUgteyuzWtz",
        "colab_type": "text"
      },
      "cell_type": "markdown",
      "source": [
        "We can evaluate our model on the testing set. "
      ]
    },
    {
      "metadata": {
        "id": "2I_kNH4uzWt0",
        "colab_type": "code",
        "colab": {},
        "outputId": "a1e17840-a08e-43f4-d0da-bc6e04e9172e"
      },
      "cell_type": "code",
      "source": [
        "loss, acc = my_model.evaluate(X_test, y_test)\n",
        "print(\"Restored model, accuracy: {:5.2f}%\".format(100*acc))"
      ],
      "execution_count": 0,
      "outputs": [
        {
          "output_type": "stream",
          "text": [
            "152451/152451 [==============================] - 4085s 27ms/step\n",
            "Restored model, accuracy: 97.31%\n"
          ],
          "name": "stdout"
        }
      ]
    },
    {
      "metadata": {
        "id": "sHN8GniFzWt2",
        "colab_type": "text"
      },
      "cell_type": "markdown",
      "source": [
        "## 5. Final Thought\n",
        "\n",
        "This notebook focuses on the deep learning, there are of course another popular techniques usch as **word2vec** and **FastText**. Compare to the other machine learning algorithms like **xgboost**, the deep learning models take much more time to train a model since usually it has a large amount of parameters. The binary labels method is actually tricky, but I have tried not to binarize them, just trained a model to predict over 3000 labels. It actually works, but the performance of model is quite unsatisfactory. "
      ]
    },
    {
      "metadata": {
        "id": "CT7H_HVOzWt2",
        "colab_type": "code",
        "colab": {}
      },
      "cell_type": "code",
      "source": [
        ""
      ],
      "execution_count": 0,
      "outputs": []
    }
  ]
}