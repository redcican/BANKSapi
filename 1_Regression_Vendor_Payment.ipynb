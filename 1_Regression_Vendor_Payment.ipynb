{
  "nbformat": 4,
  "nbformat_minor": 0,
  "metadata": {
    "colab": {
      "name": "1. Regression Vendor Payment.ipynb",
      "version": "0.3.2",
      "provenance": [],
      "include_colab_link": true
    },
    "kernelspec": {
      "display_name": "Python 3",
      "language": "python",
      "name": "python3"
    }
  },
  "cells": [
    {
      "cell_type": "markdown",
      "metadata": {
        "id": "view-in-github",
        "colab_type": "text"
      },
      "source": [
        "[View in Colaboratory](https://colab.research.google.com/github/redcican/BANKSapi/blob/master/1_Regression_Vendor_Payment.ipynb)"
      ]
    },
    {
      "metadata": {
        "id": "oM7OPZ9Jl856",
        "colab_type": "text"
      },
      "cell_type": "markdown",
      "source": [
        "# Introduction: State Vendor Payments \n",
        "\n",
        "In this contest, the first assignment is to predict the payments of state vendor giving the multiple conditions. \n",
        "First, I will describe a comphresensive way to explore the data. After that, this notebook will focus on the regression problem and the whole workflow for a typical machine learning process. "
      ]
    },
    {
      "metadata": {
        "id": "-W5-qX09l857",
        "colab_type": "text"
      },
      "cell_type": "markdown",
      "source": [
        "# Regressioin Problem"
      ]
    },
    {
      "metadata": {
        "id": "1EV6hSaJl859",
        "colab_type": "text"
      },
      "cell_type": "markdown",
      "source": [
        "First of all, I would like to import all the libraries that will be used for regression problem."
      ]
    },
    {
      "metadata": {
        "id": "TZSrzTTsl85-",
        "colab_type": "code",
        "colab": {}
      },
      "cell_type": "code",
      "source": [
        "# pandas and numpy for data manipulation\n",
        "import numpy as np\n",
        "import pandas as pd\n",
        "\n",
        "# general libraries for python\n",
        "import os\n",
        "from os import path\n",
        "import string\n",
        "\n",
        "# matplotlib and seaborn for Visualization \n",
        "import matplotlib as mpl\n",
        "import matplotlib.pyplot as plt\n",
        "import seaborn as sns\n",
        "from wordcloud import WordCloud, STOPWORDS\n",
        "\n",
        "# nltk and re for text processing\n",
        "import nltk\n",
        "from nltk.tokenize import RegexpTokenizer\n",
        "from nltk.corpus import stopwords\n",
        "import re\n",
        "from nltk.stem.porter import PorterStemmer\n",
        "\n",
        "# scikit-learn and xgboost for machine learning and feature engineering\n",
        "from sklearn.model_selection import train_test_split\n",
        "from sklearn.base import BaseEstimator, TransformerMixin\n",
        "from sklearn.pipeline import Pipeline, FeatureUnion\n",
        "from sklearn.feature_extraction.text import TfidfVectorizer, CountVectorizer\n",
        "from sklearn.preprocessing import StandardScaler\n",
        "from sklearn.preprocessing import OneHotEncoder\n",
        "from sklearn.decomposition import TruncatedSVD\n",
        "from sklearn.metrics import r2_score\n",
        "from sklearn.model_selection import cross_val_score\n",
        "from scipy.sparse import csr_matrix\n",
        "from sklearn.decomposition import PCA\n",
        "from skopt.space import Integer, Categorical, Real\n",
        "from skopt.utils import use_named_args\n",
        "from skopt import gp_minimize\n",
        "import xgboost as xgb\n",
        "import pickle\n",
        "\n",
        "# Warnings\n",
        "import warnings\n",
        "warnings.filterwarnings('ignore')"
      ],
      "execution_count": 0,
      "outputs": []
    },
    {
      "metadata": {
        "id": "PItVmrP1l86E",
        "colab_type": "code",
        "colab": {}
      },
      "cell_type": "code",
      "source": [
        "%matplotlib inline\n",
        "plt.style.use('fivethirtyeight')\n",
        "# Set Plot Theme\n",
        "palette = sns.color_palette('Paired', 10)\n",
        "# Pandas display options\n",
        "pd.set_option('display.float_format', lambda x: '%.3f' % x)"
      ],
      "execution_count": 0,
      "outputs": []
    },
    {
      "metadata": {
        "id": "2FmBu911l86H",
        "colab_type": "text"
      },
      "cell_type": "markdown",
      "source": [
        "## 1. Understanding the data"
      ]
    },
    {
      "metadata": {
        "id": "P6YZWRtLl86I",
        "colab_type": "text"
      },
      "cell_type": "markdown",
      "source": [
        "Throughout this notebook, we will work with over 1M rows. Generally, the performance of a machine learning model increases as the amoung of training data increases. When we read in the data, we will tell panda to treat the `MonthTtl` as a date. We will also drop the `Biennium`since it a uniuqe identifier and does not tell us anything about state payments. "
      ]
    },
    {
      "metadata": {
        "id": "AHt_4OX0l86J",
        "colab_type": "code",
        "colab": {},
        "outputId": "23158b3d-511d-46e4-c88d-6cf63aee6605"
      },
      "cell_type": "code",
      "source": [
        "df = pd.read_csv('state_vendor_payment.csv', parse_dates=['MonthTtl']).drop(columns='Biennium')\n",
        "df['MonthTtl'] = df.MonthTtl.dt.to_period('M')\n",
        "df.head()"
      ],
      "execution_count": 0,
      "outputs": [
        {
          "output_type": "execute_result",
          "data": {
            "text/html": [
              "<div>\n",
              "<style scoped>\n",
              "    .dataframe tbody tr th:only-of-type {\n",
              "        vertical-align: middle;\n",
              "    }\n",
              "\n",
              "    .dataframe tbody tr th {\n",
              "        vertical-align: top;\n",
              "    }\n",
              "\n",
              "    .dataframe thead th {\n",
              "        text-align: right;\n",
              "    }\n",
              "</style>\n",
              "<table border=\"1\" class=\"dataframe\">\n",
              "  <thead>\n",
              "    <tr style=\"text-align: right;\">\n",
              "      <th></th>\n",
              "      <th>FY</th>\n",
              "      <th>FYMo</th>\n",
              "      <th>MonthTtl</th>\n",
              "      <th>AgyCode</th>\n",
              "      <th>AgyTtl</th>\n",
              "      <th>Object</th>\n",
              "      <th>SubObject</th>\n",
              "      <th>Recipient</th>\n",
              "      <th>ObjectTtl</th>\n",
              "      <th>SubObjectTtl</th>\n",
              "      <th>Description</th>\n",
              "      <th>Amount</th>\n",
              "    </tr>\n",
              "  </thead>\n",
              "  <tbody>\n",
              "    <tr>\n",
              "      <th>0</th>\n",
              "      <td>2015</td>\n",
              "      <td>23</td>\n",
              "      <td>2015-05</td>\n",
              "      <td>10</td>\n",
              "      <td>Bond Retirement and Interest</td>\n",
              "      <td>C</td>\n",
              "      <td>CC</td>\n",
              "      <td>MONTAGUE DEROSE &amp; ASSOCIATES LLC              ...</td>\n",
              "      <td>Personal Service Contracts</td>\n",
              "      <td>Financial Services                            ...</td>\n",
              "      <td>The amounts expended for financial services, a...</td>\n",
              "      <td>22237.930</td>\n",
              "    </tr>\n",
              "    <tr>\n",
              "      <th>1</th>\n",
              "      <td>2015</td>\n",
              "      <td>23</td>\n",
              "      <td>2015-05</td>\n",
              "      <td>10</td>\n",
              "      <td>Bond Retirement and Interest</td>\n",
              "      <td>C</td>\n",
              "      <td>CB</td>\n",
              "      <td>FOSTER PEPPER PLLC                            ...</td>\n",
              "      <td>Personal Service Contracts</td>\n",
              "      <td>Legal/Expert Witness Services                 ...</td>\n",
              "      <td>The amounts expended for legal services and le...</td>\n",
              "      <td>83938.150</td>\n",
              "    </tr>\n",
              "    <tr>\n",
              "      <th>2</th>\n",
              "      <td>2015</td>\n",
              "      <td>23</td>\n",
              "      <td>2015-05</td>\n",
              "      <td>10</td>\n",
              "      <td>Bond Retirement and Interest</td>\n",
              "      <td>E</td>\n",
              "      <td>ER</td>\n",
              "      <td>FITCH INC                                     ...</td>\n",
              "      <td>Goods and Services</td>\n",
              "      <td>Other Contractual Services                    ...</td>\n",
              "      <td>The amounts expended for contractual services ...</td>\n",
              "      <td>35000.000</td>\n",
              "    </tr>\n",
              "    <tr>\n",
              "      <th>3</th>\n",
              "      <td>2015</td>\n",
              "      <td>23</td>\n",
              "      <td>2015-05</td>\n",
              "      <td>10</td>\n",
              "      <td>Bond Retirement and Interest</td>\n",
              "      <td>E</td>\n",
              "      <td>ER</td>\n",
              "      <td>MOODYS INVESTORS SERVICE                      ...</td>\n",
              "      <td>Goods and Services</td>\n",
              "      <td>Other Contractual Services                    ...</td>\n",
              "      <td>The amounts expended for contractual services ...</td>\n",
              "      <td>68560.990</td>\n",
              "    </tr>\n",
              "    <tr>\n",
              "      <th>4</th>\n",
              "      <td>2015</td>\n",
              "      <td>23</td>\n",
              "      <td>2015-05</td>\n",
              "      <td>10</td>\n",
              "      <td>Bond Retirement and Interest</td>\n",
              "      <td>E</td>\n",
              "      <td>EZ</td>\n",
              "      <td>FEDERAL EXPRESS                               ...</td>\n",
              "      <td>Goods and Services</td>\n",
              "      <td>Other Goods and Services                      ...</td>\n",
              "      <td>The amounts expended for goods and services ot...</td>\n",
              "      <td>14.620</td>\n",
              "    </tr>\n",
              "  </tbody>\n",
              "</table>\n",
              "</div>"
            ],
            "text/plain": [
              "     FY  FYMo MonthTtl  AgyCode                               AgyTtl Object  \\\n",
              "0  2015    23  2015-05       10  Bond Retirement and Interest             C   \n",
              "1  2015    23  2015-05       10  Bond Retirement and Interest             C   \n",
              "2  2015    23  2015-05       10  Bond Retirement and Interest             E   \n",
              "3  2015    23  2015-05       10  Bond Retirement and Interest             E   \n",
              "4  2015    23  2015-05       10  Bond Retirement and Interest             E   \n",
              "\n",
              "  SubObject                                          Recipient  \\\n",
              "0        CC  MONTAGUE DEROSE & ASSOCIATES LLC              ...   \n",
              "1        CB  FOSTER PEPPER PLLC                            ...   \n",
              "2        ER  FITCH INC                                     ...   \n",
              "3        ER  MOODYS INVESTORS SERVICE                      ...   \n",
              "4        EZ  FEDERAL EXPRESS                               ...   \n",
              "\n",
              "                             ObjectTtl  \\\n",
              "0  Personal Service Contracts            \n",
              "1  Personal Service Contracts            \n",
              "2  Goods and Services                    \n",
              "3  Goods and Services                    \n",
              "4  Goods and Services                    \n",
              "\n",
              "                                        SubObjectTtl  \\\n",
              "0  Financial Services                            ...   \n",
              "1  Legal/Expert Witness Services                 ...   \n",
              "2  Other Contractual Services                    ...   \n",
              "3  Other Contractual Services                    ...   \n",
              "4  Other Goods and Services                      ...   \n",
              "\n",
              "                                         Description    Amount  \n",
              "0  The amounts expended for financial services, a... 22237.930  \n",
              "1  The amounts expended for legal services and le... 83938.150  \n",
              "2  The amounts expended for contractual services ... 35000.000  \n",
              "3  The amounts expended for contractual services ... 68560.990  \n",
              "4  The amounts expended for goods and services ot...    14.620  "
            ]
          },
          "metadata": {
            "tags": []
          },
          "execution_count": 4
        }
      ]
    },
    {
      "metadata": {
        "id": "FbggNh2ll86O",
        "colab_type": "code",
        "colab": {}
      },
      "cell_type": "code",
      "source": [
        "#df.to_pickle('df_vendor.pkl') \n",
        "df = pd.read_pickle('df_vendor.pkl')"
      ],
      "execution_count": 0,
      "outputs": []
    },
    {
      "metadata": {
        "id": "EDA7GalBl86R",
        "colab_type": "text"
      },
      "cell_type": "markdown",
      "source": [
        "### 1.1 Describe Data"
      ]
    },
    {
      "metadata": {
        "id": "V8zRFVz7l86S",
        "colab_type": "text"
      },
      "cell_type": "markdown",
      "source": [
        "From the [offical site](https://data.wa.gov/Procurements-and-Contracts/State-Vendor-Payments/sufm-u7rz) of data we can know there are three types of columns:  \n",
        "* numerical columns:\n",
        "    * FY\n",
        "    * FYMo\n",
        "    * AgyCode\n",
        "    * Amount\n",
        "* categorical columns:\n",
        "    * Object\n",
        "    * SubObject\n",
        "* text columns:\n",
        "    * AgyTtl\n",
        "    * Recipient\n",
        "    * ObjectTtl \n",
        "    * SubObjectTtl\n",
        "    * Description"
      ]
    },
    {
      "metadata": {
        "id": "X_PjcKG2l86T",
        "colab_type": "text"
      },
      "cell_type": "markdown",
      "source": [
        "We can check these information using the `.info()` and `.describe()` methods."
      ]
    },
    {
      "metadata": {
        "id": "aP9rdB4Jl86T",
        "colab_type": "code",
        "colab": {},
        "outputId": "ca8ee7de-8894-4811-ab07-6b4266c91bef"
      },
      "cell_type": "code",
      "source": [
        "df.info()"
      ],
      "execution_count": 0,
      "outputs": [
        {
          "output_type": "stream",
          "text": [
            "<class 'pandas.core.frame.DataFrame'>\n",
            "Int64Index: 1519815 entries, 0 to 1524502\n",
            "Data columns (total 12 columns):\n",
            "FY              1519815 non-null int64\n",
            "FYMo            1519815 non-null int64\n",
            "MonthTtl        1519815 non-null object\n",
            "AgyCode         1519815 non-null int64\n",
            "AgyTtl          1519815 non-null object\n",
            "Object          1519815 non-null object\n",
            "SubObject       1519815 non-null object\n",
            "Recipient       1519815 non-null object\n",
            "ObjectTtl       1519815 non-null object\n",
            "SubObjectTtl    1519815 non-null object\n",
            "Description     1519815 non-null object\n",
            "Amount          1519815 non-null float64\n",
            "dtypes: float64(1), int64(3), object(8)\n",
            "memory usage: 150.7+ MB\n"
          ],
          "name": "stdout"
        }
      ]
    },
    {
      "metadata": {
        "id": "XMOw4R1Wl86a",
        "colab_type": "text"
      },
      "cell_type": "markdown",
      "source": [
        "`df.describe()` is an effective method for catching outliers and anomalies."
      ]
    },
    {
      "metadata": {
        "id": "_Cv3lX34l86b",
        "colab_type": "code",
        "colab": {},
        "outputId": "7b533e8f-3760-4b33-fa20-4bd86a3bd5e5"
      },
      "cell_type": "code",
      "source": [
        "df.describe()"
      ],
      "execution_count": 0,
      "outputs": [
        {
          "output_type": "execute_result",
          "data": {
            "text/html": [
              "<div>\n",
              "<style scoped>\n",
              "    .dataframe tbody tr th:only-of-type {\n",
              "        vertical-align: middle;\n",
              "    }\n",
              "\n",
              "    .dataframe tbody tr th {\n",
              "        vertical-align: top;\n",
              "    }\n",
              "\n",
              "    .dataframe thead th {\n",
              "        text-align: right;\n",
              "    }\n",
              "</style>\n",
              "<table border=\"1\" class=\"dataframe\">\n",
              "  <thead>\n",
              "    <tr style=\"text-align: right;\">\n",
              "      <th></th>\n",
              "      <th>FY</th>\n",
              "      <th>FYMo</th>\n",
              "      <th>AgyCode</th>\n",
              "      <th>Amount</th>\n",
              "    </tr>\n",
              "  </thead>\n",
              "  <tbody>\n",
              "    <tr>\n",
              "      <th>count</th>\n",
              "      <td>1519815.000</td>\n",
              "      <td>1519815.000</td>\n",
              "      <td>1519815.000</td>\n",
              "      <td>1519815.000</td>\n",
              "    </tr>\n",
              "    <tr>\n",
              "      <th>mean</th>\n",
              "      <td>2014.486</td>\n",
              "      <td>12.152</td>\n",
              "      <td>285.595</td>\n",
              "      <td>8396.699</td>\n",
              "    </tr>\n",
              "    <tr>\n",
              "      <th>std</th>\n",
              "      <td>0.500</td>\n",
              "      <td>6.621</td>\n",
              "      <td>106.161</td>\n",
              "      <td>47437.359</td>\n",
              "    </tr>\n",
              "    <tr>\n",
              "      <th>min</th>\n",
              "      <td>2014.000</td>\n",
              "      <td>1.000</td>\n",
              "      <td>10.000</td>\n",
              "      <td>0.010</td>\n",
              "    </tr>\n",
              "    <tr>\n",
              "      <th>25%</th>\n",
              "      <td>2014.000</td>\n",
              "      <td>7.000</td>\n",
              "      <td>300.000</td>\n",
              "      <td>152.620</td>\n",
              "    </tr>\n",
              "    <tr>\n",
              "      <th>50%</th>\n",
              "      <td>2014.000</td>\n",
              "      <td>12.000</td>\n",
              "      <td>300.000</td>\n",
              "      <td>684.200</td>\n",
              "    </tr>\n",
              "    <tr>\n",
              "      <th>75%</th>\n",
              "      <td>2015.000</td>\n",
              "      <td>18.000</td>\n",
              "      <td>300.000</td>\n",
              "      <td>1892.040</td>\n",
              "    </tr>\n",
              "    <tr>\n",
              "      <th>max</th>\n",
              "      <td>2015.000</td>\n",
              "      <td>23.000</td>\n",
              "      <td>707.000</td>\n",
              "      <td>999999.750</td>\n",
              "    </tr>\n",
              "  </tbody>\n",
              "</table>\n",
              "</div>"
            ],
            "text/plain": [
              "               FY        FYMo     AgyCode      Amount\n",
              "count 1519815.000 1519815.000 1519815.000 1519815.000\n",
              "mean     2014.486      12.152     285.595    8396.699\n",
              "std         0.500       6.621     106.161   47437.359\n",
              "min      2014.000       1.000      10.000       0.010\n",
              "25%      2014.000       7.000     300.000     152.620\n",
              "50%      2014.000      12.000     300.000     684.200\n",
              "75%      2015.000      18.000     300.000    1892.040\n",
              "max      2015.000      23.000     707.000  999999.750"
            ]
          },
          "metadata": {
            "tags": []
          },
          "execution_count": 6
        }
      ]
    },
    {
      "metadata": {
        "id": "hq8aU3IEl86e",
        "colab_type": "text"
      },
      "cell_type": "markdown",
      "source": [
        "We can see the distribution of `FY`, `FYMo` and `AgyCode` is quite normal (from \n",
        "intuition and common sense). However, the `Amount` seems to have both negative values and extreme values. "
      ]
    },
    {
      "metadata": {
        "id": "dymD7QRBl86f",
        "colab_type": "text"
      },
      "cell_type": "markdown",
      "source": [
        "### 1.2 Missing Values"
      ]
    },
    {
      "metadata": {
        "id": "waknomMyl86f",
        "colab_type": "text"
      },
      "cell_type": "markdown",
      "source": [
        "One of the most important steps of exploratory data analysis is finding missing values in the data and determining how to handle them. Missing values have to be filled in before we use a machine learning model and we need to think of the best strategy for filling them in based on the feature. Fortunately, we don't have any missing value!"
      ]
    },
    {
      "metadata": {
        "id": "GJgXeS66l86g",
        "colab_type": "code",
        "colab": {},
        "outputId": "1f296a1d-3f91-419d-dd62-f1f5fce6903f"
      },
      "cell_type": "code",
      "source": [
        "missing = pd.DataFrame(df.isnull().sum()).rename(columns = {0: 'total'})\n",
        "missing['percent'] = missing['total'] / len(df)\n",
        "missing.head(10)"
      ],
      "execution_count": 0,
      "outputs": [
        {
          "output_type": "execute_result",
          "data": {
            "text/html": [
              "<div>\n",
              "<style scoped>\n",
              "    .dataframe tbody tr th:only-of-type {\n",
              "        vertical-align: middle;\n",
              "    }\n",
              "\n",
              "    .dataframe tbody tr th {\n",
              "        vertical-align: top;\n",
              "    }\n",
              "\n",
              "    .dataframe thead th {\n",
              "        text-align: right;\n",
              "    }\n",
              "</style>\n",
              "<table border=\"1\" class=\"dataframe\">\n",
              "  <thead>\n",
              "    <tr style=\"text-align: right;\">\n",
              "      <th></th>\n",
              "      <th>total</th>\n",
              "      <th>percent</th>\n",
              "    </tr>\n",
              "  </thead>\n",
              "  <tbody>\n",
              "    <tr>\n",
              "      <th>FY</th>\n",
              "      <td>0</td>\n",
              "      <td>0.000</td>\n",
              "    </tr>\n",
              "    <tr>\n",
              "      <th>FYMo</th>\n",
              "      <td>0</td>\n",
              "      <td>0.000</td>\n",
              "    </tr>\n",
              "    <tr>\n",
              "      <th>MonthTtl</th>\n",
              "      <td>0</td>\n",
              "      <td>0.000</td>\n",
              "    </tr>\n",
              "    <tr>\n",
              "      <th>AgyCode</th>\n",
              "      <td>0</td>\n",
              "      <td>0.000</td>\n",
              "    </tr>\n",
              "    <tr>\n",
              "      <th>AgyTtl</th>\n",
              "      <td>0</td>\n",
              "      <td>0.000</td>\n",
              "    </tr>\n",
              "    <tr>\n",
              "      <th>Object</th>\n",
              "      <td>0</td>\n",
              "      <td>0.000</td>\n",
              "    </tr>\n",
              "    <tr>\n",
              "      <th>SubObject</th>\n",
              "      <td>0</td>\n",
              "      <td>0.000</td>\n",
              "    </tr>\n",
              "    <tr>\n",
              "      <th>Recipient</th>\n",
              "      <td>0</td>\n",
              "      <td>0.000</td>\n",
              "    </tr>\n",
              "    <tr>\n",
              "      <th>ObjectTtl</th>\n",
              "      <td>0</td>\n",
              "      <td>0.000</td>\n",
              "    </tr>\n",
              "    <tr>\n",
              "      <th>SubObjectTtl</th>\n",
              "      <td>0</td>\n",
              "      <td>0.000</td>\n",
              "    </tr>\n",
              "  </tbody>\n",
              "</table>\n",
              "</div>"
            ],
            "text/plain": [
              "              total  percent\n",
              "FY                0    0.000\n",
              "FYMo              0    0.000\n",
              "MonthTtl          0    0.000\n",
              "AgyCode           0    0.000\n",
              "AgyTtl            0    0.000\n",
              "Object            0    0.000\n",
              "SubObject         0    0.000\n",
              "Recipient         0    0.000\n",
              "ObjectTtl         0    0.000\n",
              "SubObjectTtl      0    0.000"
            ]
          },
          "metadata": {
            "tags": []
          },
          "execution_count": 7
        }
      ]
    },
    {
      "metadata": {
        "id": "duitl7rql86m",
        "colab_type": "text"
      },
      "cell_type": "markdown",
      "source": [
        "## 2. Data Exploration and Cleaning  \n",
        "\n",
        "Data exploration and clearning are crucial steps for data science. I love doing these two steps simulataneously. As I explore the data and find outlying values or errors, I correct them or make a note to follow up later. Data cleaning usually involves domain knowledge, statistical description as son on. "
      ]
    },
    {
      "metadata": {
        "id": "1H6d_X9pl86m",
        "colab_type": "text"
      },
      "cell_type": "markdown",
      "source": [
        "### 2.1 Check the Target Variable\n",
        "\n",
        "For a first graphical exploration, we can look at the distribution of `Amount`, the target variable we want to train a model to predict. We will use **seaborn's** `distplot` which shows a kernel density estimate plot and a histogram. Here we plot the top100 amount and their density."
      ]
    },
    {
      "metadata": {
        "id": "JX2DPxhRl86n",
        "colab_type": "code",
        "colab": {},
        "outputId": "716c2bfa-af9d-4508-f38f-b6a241fc02a0"
      },
      "cell_type": "code",
      "source": [
        "plt.figure(figsize=(10,6))\n",
        "sns.distplot(df['Amount'].value_counts().nlargest(100))"
      ],
      "execution_count": 0,
      "outputs": [
        {
          "output_type": "execute_result",
          "data": {
            "text/plain": [
              "<matplotlib.axes._subplots.AxesSubplot at 0x7fb530322a20>"
            ]
          },
          "metadata": {
            "tags": []
          },
          "execution_count": 8
        },
        {
          "output_type": "display_data",
          "data": {
            "image/png": "[encoded data removed]",
            "text/plain": [
              "<matplotlib.figure.Figure at 0x7fb530099390>"
            ]
          },
          "metadata": {
            "tags": []
          }
        }
      ]
    },
    {
      "metadata": {
        "id": "GSaE5q0zl86r",
        "colab_type": "code",
        "colab": {},
        "outputId": "ed4abb2d-ff94-411e-f231-e192badd457c"
      },
      "cell_type": "code",
      "source": [
        "print(\"There are {} amounts are negative \".format(len(df[df['Amount'] < 0])))\n",
        "print(\"There are {} amounts are equal to $0\".format(len(df[df['Amount'] == 0])))\n",
        "print(\"There are {} amounts are greater than $1000000\".format(len(df[df['Amount'] > 1000000])))"
      ],
      "execution_count": 0,
      "outputs": [
        {
          "output_type": "stream",
          "text": [
            "There are 0 amounts are negative \n",
            "There are 0 amounts are equal to $0\n",
            "There are 0 amounts are greater than $1000000\n"
          ],
          "name": "stdout"
        }
      ]
    },
    {
      "metadata": {
        "id": "eN8NYB5Ll86v",
        "colab_type": "text"
      },
      "cell_type": "markdown",
      "source": [
        "#### 2.1.1 Empirical Cumulative Distribution Plot  \n",
        "Another plot for showing the distribution of a single variable is the [empirical cumulative distribution function.](https://en.wikipedia.org/wiki/Empirical_distribution_function)This shows the percentile on the y-axis and the variable on the x-axis and gets around some of the issues associated with binning data for histograms of the kernel width of the KDE"
      ]
    },
    {
      "metadata": {
        "id": "JYpZg-z4l86v",
        "colab_type": "code",
        "colab": {}
      },
      "cell_type": "code",
      "source": [
        "def ecdf(x):\n",
        "    '''\n",
        "    Define Empirical cumulative distribution function of a variable\n",
        "    '''\n",
        "    x = np.sort(x)\n",
        "    n = len(x)\n",
        "    \n",
        "    y = np.arange(1, n+1, 1) / n\n",
        "    \n",
        "    return x, y"
      ],
      "execution_count": 0,
      "outputs": []
    },
    {
      "metadata": {
        "id": "VKrdFfdDl86x",
        "colab_type": "code",
        "colab": {},
        "outputId": "bf3ae360-ecaa-4ba1-a269-b5940e06c781"
      },
      "cell_type": "code",
      "source": [
        "x, y = ecdf(df['Amount'].value_counts().nlargest(100))\n",
        "plt.figure(figsize=(8,6))\n",
        "plt.plot(x,y, '.')\n",
        "plt.ylabel('Percentile')\n",
        "plt.xlabel('Payment Amount ($)')\n",
        "plt.title('ECDF of Amounts')"
      ],
      "execution_count": 0,
      "outputs": [
        {
          "output_type": "execute_result",
          "data": {
            "text/plain": [
              "Text(0.5,1,'ECDF of Amounts')"
            ]
          },
          "metadata": {
            "tags": []
          },
          "execution_count": 11
        },
        {
          "output_type": "display_data",
          "data": {
            "image/png": "[encoded data removed]",
            "text/plain": [
              "<matplotlib.figure.Figure at 0x7fb52e9b2d30>"
            ]
          },
          "metadata": {
            "tags": []
          }
        }
      ]
    },
    {
      "metadata": {
        "id": "7VZnXwBIl863",
        "colab_type": "text"
      },
      "cell_type": "markdown",
      "source": [
        "The plot above shows the distribution is heavily right skewed, most of the amounts are below $4000, with a heavy right tail of larger amounts."
      ]
    },
    {
      "metadata": {
        "id": "oK0hHikbl864",
        "colab_type": "text"
      },
      "cell_type": "markdown",
      "source": [
        "### 2.2 Remove the Outliers"
      ]
    },
    {
      "metadata": {
        "id": "yCOGea9Fl866",
        "colab_type": "text"
      },
      "cell_type": "markdown",
      "source": [
        "Based on the distribution of Amounts and the scale of dataset, I decided to remove any amounts less than 0 and greater than 1000000. "
      ]
    },
    {
      "metadata": {
        "id": "_V-t-88Nl866",
        "colab_type": "code",
        "colab": {},
        "outputId": "c96ed5ca-84fb-48b7-fc52-5b0e7dedc747"
      },
      "cell_type": "code",
      "source": [
        "df = df[df['Amount'].between(left = 0, right = 1000000, inclusive=False)]\n",
        "df.info()"
      ],
      "execution_count": 0,
      "outputs": [
        {
          "output_type": "stream",
          "text": [
            "<class 'pandas.core.frame.DataFrame'>\n",
            "Int64Index: 1519815 entries, 0 to 1524502\n",
            "Data columns (total 12 columns):\n",
            "FY              1519815 non-null int64\n",
            "FYMo            1519815 non-null int64\n",
            "MonthTtl        1519815 non-null object\n",
            "AgyCode         1519815 non-null int64\n",
            "AgyTtl          1519815 non-null object\n",
            "Object          1519815 non-null object\n",
            "SubObject       1519815 non-null object\n",
            "Recipient       1519815 non-null object\n",
            "ObjectTtl       1519815 non-null object\n",
            "SubObjectTtl    1519815 non-null object\n",
            "Description     1519815 non-null object\n",
            "Amount          1519815 non-null float64\n",
            "dtypes: float64(1), int64(3), object(8)\n",
            "memory usage: 150.7+ MB\n"
          ],
          "name": "stdout"
        }
      ]
    },
    {
      "metadata": {
        "id": "y-P6qbTHl86_",
        "colab_type": "text"
      },
      "cell_type": "markdown",
      "source": [
        "### 2.3 Explore more details of feature columns"
      ]
    },
    {
      "metadata": {
        "id": "GIRmuhLul86_",
        "colab_type": "text"
      },
      "cell_type": "markdown",
      "source": [
        "After explore the property of target column, we can focus on more details of the variable columns. "
      ]
    },
    {
      "metadata": {
        "id": "H8jZgAhLl87B",
        "colab_type": "text"
      },
      "cell_type": "markdown",
      "source": [
        "#### 2.3.1 Numerical columns  \n",
        "There are 3 numerical feature columns, we can explore them in a similar way!"
      ]
    },
    {
      "metadata": {
        "id": "82cBEakJl87C",
        "colab_type": "code",
        "colab": {},
        "outputId": "e2bdcbbe-0a8d-4386-82aa-efa66623ff04"
      },
      "cell_type": "code",
      "source": [
        "df['FY'].value_counts()"
      ],
      "execution_count": 0,
      "outputs": [
        {
          "output_type": "execute_result",
          "data": {
            "text/plain": [
              "2014    780970\n",
              "2015    738845\n",
              "Name: FY, dtype: int64"
            ]
          },
          "metadata": {
            "tags": []
          },
          "execution_count": 13
        }
      ]
    },
    {
      "metadata": {
        "id": "9_dhZ6jgl87F",
        "colab_type": "text"
      },
      "cell_type": "markdown",
      "source": [
        "There are only two unqiue values of column `FY`, let's check their distribution."
      ]
    },
    {
      "metadata": {
        "id": "I1L4xERWl87H",
        "colab_type": "code",
        "colab": {},
        "outputId": "5a940562-5f2d-43f5-dcd4-930dcb669b6f"
      },
      "cell_type": "code",
      "source": [
        "plt.figure(figsize=(8,6))\n",
        "df['FY'].value_counts().plot(kind='bar')\n",
        "plt.xlabel('FY Frequency')\n",
        "plt.title('Frequence of FY distribution', fontsize=12)\n",
        "plt.show()"
      ],
      "execution_count": 0,
      "outputs": [
        {
          "output_type": "display_data",
          "data": {
            "image/png": "[encoded data removed]",
            "text/plain": [
              "<matplotlib.figure.Figure at 0x7fb52e82e940>"
            ]
          },
          "metadata": {
            "tags": []
          }
        }
      ]
    },
    {
      "metadata": {
        "id": "8BszzDQ6l87L",
        "colab_type": "code",
        "colab": {},
        "outputId": "9ed64b77-3753-4846-92d4-56dd6c2693c7"
      },
      "cell_type": "code",
      "source": [
        "# check the unique values of FYMo\n",
        "len(df['FYMo'].value_counts())"
      ],
      "execution_count": 0,
      "outputs": [
        {
          "output_type": "execute_result",
          "data": {
            "text/plain": [
              "23"
            ]
          },
          "metadata": {
            "tags": []
          },
          "execution_count": 15
        }
      ]
    },
    {
      "metadata": {
        "id": "dx29jITBl87O",
        "colab_type": "text"
      },
      "cell_type": "markdown",
      "source": [
        "The column `FYMo` has 23 unique values. First, we can check their distribution."
      ]
    },
    {
      "metadata": {
        "id": "1CwLNnNBl87O",
        "colab_type": "code",
        "colab": {},
        "outputId": "38c82c8e-9503-4dd6-f410-27512dbd0aed"
      },
      "cell_type": "code",
      "source": [
        "plt.figure(figsize=(8,6))\n",
        "df['FYMo'].value_counts().plot(kind='bar')\n",
        "plt.xlabel('FYMo Frequency')\n",
        "plt.title('Frequence of FYMo distribution', fontsize=12)\n",
        "plt.show()"
      ],
      "execution_count": 0,
      "outputs": [
        {
          "output_type": "display_data",
          "data": {
            "image/png": "[encoded data removed]",
            "text/plain": [
              "<matplotlib.figure.Figure at 0x7fb52e64efd0>"
            ]
          },
          "metadata": {
            "tags": []
          }
        }
      ]
    },
    {
      "metadata": {
        "id": "mJLrdRINl87R",
        "colab_type": "text"
      },
      "cell_type": "markdown",
      "source": [
        "We can clearly see that the distribution of `FYMo` is very homogeneous. We can then check the sum of Amounts by `FYMo`"
      ]
    },
    {
      "metadata": {
        "id": "uOpgdhfpl87R",
        "colab_type": "code",
        "colab": {},
        "outputId": "9236e42b-f58a-4771-fc6a-25c6350adbd3"
      },
      "cell_type": "code",
      "source": [
        "plt.figure(figsize=(8,6))\n",
        "df_FYMo = df['Amount'].groupby(by=df['FYMo']).sum()\n",
        "plt.plot(df_FYMo.index, df_FYMo)\n",
        "plt.xticks(df_FYMo.index);\n",
        "plt.show()"
      ],
      "execution_count": 0,
      "outputs": [
        {
          "output_type": "display_data",
          "data": {
            "image/png": "[encoded data removed]",
            "text/plain": [
              "<matplotlib.figure.Figure at 0x7fb52d93d4e0>"
            ]
          },
          "metadata": {
            "tags": []
          }
        }
      ]
    },
    {
      "metadata": {
        "id": "K4PfLpYpl87U",
        "colab_type": "text"
      },
      "cell_type": "markdown",
      "source": [
        "We can see the distribution of the sum of Amount and which the corresponding values of `FYMo`.  \n",
        "Next, we explore the column `AgyCode`."
      ]
    },
    {
      "metadata": {
        "id": "Q-syRsBZl87U",
        "colab_type": "code",
        "colab": {},
        "outputId": "8583ae47-7b72-4a30-b524-57e4ed6cb690"
      },
      "cell_type": "code",
      "source": [
        "# check the length of Agycode\n",
        "len(df['AgyCode'].value_counts())"
      ],
      "execution_count": 0,
      "outputs": [
        {
          "output_type": "execute_result",
          "data": {
            "text/plain": [
              "99"
            ]
          },
          "metadata": {
            "tags": []
          },
          "execution_count": 18
        }
      ]
    },
    {
      "metadata": {
        "id": "drtOqISrl87Z",
        "colab_type": "code",
        "colab": {},
        "outputId": "b250da63-614b-41cc-e69c-d66b1fe9d7d0"
      },
      "cell_type": "code",
      "source": [
        "plt.figure(figsize=(8,6))\n",
        "df['AgyCode'].value_counts().nlargest(30).plot(kind='barh')\n",
        "plt.xlabel('AgyCode Frequency')\n",
        "plt.title('Frequence of AgyCode distribution', fontsize=12)\n",
        "plt.show()"
      ],
      "execution_count": 0,
      "outputs": [
        {
          "output_type": "display_data",
          "data": {
            "image/png": "[encoded data removed]",
            "text/plain": [
              "<matplotlib.figure.Figure at 0x7fb52d477eb8>"
            ]
          },
          "metadata": {
            "tags": []
          }
        }
      ]
    },
    {
      "metadata": {
        "id": "YXXIQeh-l87g",
        "colab_type": "text"
      },
      "cell_type": "markdown",
      "source": [
        "It is very clear that the `300` and `107`occupy a large part of `AgyCode`. The distribution of `AgyCode` is very unbalanced."
      ]
    },
    {
      "metadata": {
        "id": "qEn-5Vp3l87h",
        "colab_type": "text"
      },
      "cell_type": "markdown",
      "source": [
        "#### 2.3.2 Categorical Columns"
      ]
    },
    {
      "metadata": {
        "id": "xCskVFcDl87h",
        "colab_type": "text"
      },
      "cell_type": "markdown",
      "source": [
        "Let's first check the column `Obejct`. First we can check the number of each label."
      ]
    },
    {
      "metadata": {
        "id": "UAc-glHGl87h",
        "colab_type": "code",
        "colab": {},
        "outputId": "9f111c97-2c11-4d0f-9874-991c91eaf43d"
      },
      "cell_type": "code",
      "source": [
        "sns.catplot(x=\"Object\", kind=\"count\", palette=\"ch:.25\", data=df)"
      ],
      "execution_count": 0,
      "outputs": [
        {
          "output_type": "execute_result",
          "data": {
            "text/plain": [
              "<seaborn.axisgrid.FacetGrid at 0x7fb52fd99208>"
            ]
          },
          "metadata": {
            "tags": []
          },
          "execution_count": 20
        },
        {
          "output_type": "display_data",
          "data": {
            "image/png": "[encoded data removed]",
            "text/plain": [
              "<matplotlib.figure.Figure at 0x7fb52d477e80>"
            ]
          },
          "metadata": {
            "tags": []
          }
        }
      ]
    },
    {
      "metadata": {
        "id": "KrF_qUrnl87k",
        "colab_type": "text"
      },
      "cell_type": "markdown",
      "source": [
        "The `Object` `N`,`E` and `G` have more amounts than any other labels. To show more information about shape of the distribution, we draw the plot as below."
      ]
    },
    {
      "metadata": {
        "id": "OeQyHUmol87l",
        "colab_type": "code",
        "colab": {},
        "outputId": "4c6c466c-db03-4f73-ff7a-52be55aab7f7"
      },
      "cell_type": "code",
      "source": [
        "sns.set_style(\"whitegrid\")\n",
        "g= sns.catplot(x=\"Object\", y=\"Amount\", kind=\"boxen\",\n",
        "            data=df.sort_values(\"Object\"));\n",
        "g.fig.set_size_inches(10,6)"
      ],
      "execution_count": 0,
      "outputs": [
        {
          "output_type": "display_data",
          "data": {
            "image/png": "[encoded data removed]",
            "text/plain": [
              "<matplotlib.figure.Figure at 0x7fb52737dd68>"
            ]
          },
          "metadata": {
            "tags": []
          }
        }
      ]
    },
    {
      "metadata": {
        "id": "R-ST04REl87o",
        "colab_type": "text"
      },
      "cell_type": "markdown",
      "source": [
        "The above plot shows more information of `Object` and their corresponding distributions.  \n",
        "Second, we should have a look of `SubObject`."
      ]
    },
    {
      "metadata": {
        "id": "Pbg0gClcl87p",
        "colab_type": "code",
        "colab": {},
        "outputId": "c2e35f99-2be2-4cab-c5c8-83c4c04b3d90"
      },
      "cell_type": "code",
      "source": [
        "# check the length of subobject\n",
        "len(df['SubObject'].value_counts())"
      ],
      "execution_count": 0,
      "outputs": [
        {
          "output_type": "execute_result",
          "data": {
            "text/plain": [
              "86"
            ]
          },
          "metadata": {
            "tags": []
          },
          "execution_count": 22
        }
      ]
    },
    {
      "metadata": {
        "id": "qAEPFe85l87r",
        "colab_type": "text"
      },
      "cell_type": "markdown",
      "source": [
        "We can first check the number of every individual label. We draw the number of top30."
      ]
    },
    {
      "metadata": {
        "id": "wyEzLVWal87r",
        "colab_type": "code",
        "colab": {},
        "outputId": "33dc1491-5b0d-4e0b-8930-8c6396a08d62"
      },
      "cell_type": "code",
      "source": [
        "plt.figure(figsize=(8,6))\n",
        "df['SubObject'].value_counts().nlargest(30).plot(kind='barh')\n",
        "plt.xlabel('SubObject Frequency')\n",
        "plt.title('Frequence of SubObject distribution', fontsize=12)\n",
        "plt.show()"
      ],
      "execution_count": 0,
      "outputs": [
        {
          "output_type": "display_data",
          "data": {
            "image/png": "[encoded data removed]",
            "text/plain": [
              "<matplotlib.figure.Figure at 0x7fb51b3637f0>"
            ]
          },
          "metadata": {
            "tags": []
          }
        }
      ]
    },
    {
      "metadata": {
        "id": "XywfTGbMl87u",
        "colab_type": "text"
      },
      "cell_type": "markdown",
      "source": [
        "The distribution of `SubObject` is very similar to `AgyCode`. The few of labels occupy the most part of amounts."
      ]
    },
    {
      "metadata": {
        "id": "1WXme7lPl87u",
        "colab_type": "text"
      },
      "cell_type": "markdown",
      "source": [
        "#### 2.3.3 Text columns"
      ]
    },
    {
      "metadata": {
        "id": "ogLNHq9Al87u",
        "colab_type": "text"
      },
      "cell_type": "markdown",
      "source": [
        "After having a basic understanding of categocial and numerical features, we should divi into the most challenging part, which is text features. In this dataset, there are 5 text features. `AgyTtl`, `Recipient`,`ObjectTtl` and `SubObjectTtl`are very similar to each other, they are basically a short phrase to describe the payment. However, the feature `Description` is a complete sentence to depict the specific behaviors of payments. I will focus on the feature `Description` and one of the remaining features. "
      ]
    },
    {
      "metadata": {
        "id": "nIfABvPel87v",
        "colab_type": "text"
      },
      "cell_type": "markdown",
      "source": [
        "First, let's take a look at these text features."
      ]
    },
    {
      "metadata": {
        "id": "DiqxTNBEl87v",
        "colab_type": "code",
        "colab": {},
        "outputId": "9edd457b-f4ee-49de-b2cc-cb96ab6ae864"
      },
      "cell_type": "code",
      "source": [
        "pd.set_option('max_colwidth', 500)\n",
        "df[[\"AgyTtl\",\"Recipient\", \"ObjectTtl\",\"SubObjectTtl\",\"Description\"]].sample(7)"
      ],
      "execution_count": 0,
      "outputs": [
        {
          "output_type": "execute_result",
          "data": {
            "text/html": [
              "<div>\n",
              "<style scoped>\n",
              "    .dataframe tbody tr th:only-of-type {\n",
              "        vertical-align: middle;\n",
              "    }\n",
              "\n",
              "    .dataframe tbody tr th {\n",
              "        vertical-align: top;\n",
              "    }\n",
              "\n",
              "    .dataframe thead th {\n",
              "        text-align: right;\n",
              "    }\n",
              "</style>\n",
              "<table border=\"1\" class=\"dataframe\">\n",
              "  <thead>\n",
              "    <tr style=\"text-align: right;\">\n",
              "      <th></th>\n",
              "      <th>AgyTtl</th>\n",
              "      <th>Recipient</th>\n",
              "      <th>ObjectTtl</th>\n",
              "      <th>SubObjectTtl</th>\n",
              "      <th>Description</th>\n",
              "    </tr>\n",
              "  </thead>\n",
              "  <tbody>\n",
              "    <tr>\n",
              "      <th>458623</th>\n",
              "      <td>Health</td>\n",
              "      <td>WALDRON  MATTHEW</td>\n",
              "      <td>Travel</td>\n",
              "      <td>Out-Of-State Subsistence &amp; Lodging</td>\n",
              "      <td>The amounts paid for lodging and/or subsistence expenses incurred while traveling outside the state's boundary on official state business, including lodging taxes.</td>\n",
              "    </tr>\n",
              "    <tr>\n",
              "      <th>914769</th>\n",
              "      <td>Social and Health Services</td>\n",
              "      <td>WESTERN WA MEDICAL GROUP</td>\n",
              "      <td>Grants, Benefits &amp; Client Services</td>\n",
              "      <td>Direct Payments to Providers</td>\n",
              "      <td>Amounts paid under client service contracts entered into for professional, technical or other services, which will result in the delivery of direct services to individual clients. Client services include such items as medical and mental health treatments, and related transportation; job counseling and training; childcare; foster care; and chore services.</td>\n",
              "    </tr>\n",
              "    <tr>\n",
              "      <th>795264</th>\n",
              "      <td>Transportation</td>\n",
              "      <td>TUCCI &amp; SONS INC</td>\n",
              "      <td>Capital Outlays</td>\n",
              "      <td>Highway Construction</td>\n",
              "      <td>The amounts expended for the construction, improvement, or addition to the state highway system.</td>\n",
              "    </tr>\n",
              "    <tr>\n",
              "      <th>901410</th>\n",
              "      <td>Social and Health Services</td>\n",
              "      <td>KOSTENKO  BORIS</td>\n",
              "      <td>Grants, Benefits &amp; Client Services</td>\n",
              "      <td>Direct Payments to Providers</td>\n",
              "      <td>Amounts paid under client service contracts entered into for professional, technical or other services, which will result in the delivery of direct services to individual clients. Client services include such items as medical and mental health treatments, and related transportation; job counseling and training; childcare; foster care; and chore services.</td>\n",
              "    </tr>\n",
              "    <tr>\n",
              "      <th>460150</th>\n",
              "      <td>Corrections</td>\n",
              "      <td>SINCLAIR  STEPHEN D</td>\n",
              "      <td>Travel</td>\n",
              "      <td>Other Travel Expenses</td>\n",
              "      <td>The amounts paid for all other costs incurred while traveling on official state business. Includes, but is not limited to: prospective employee interview expenses; employee relocation expenses; rail, bus, ferry, shuttle, or taxi fares; tolls; rental cars; parking fees; stenographic services; telephone calls; and other miscellaneous expenses.</td>\n",
              "    </tr>\n",
              "    <tr>\n",
              "      <th>285065</th>\n",
              "      <td>Licensing</td>\n",
              "      <td>SANITARY SERVICE COMPANY INC</td>\n",
              "      <td>Goods and Services</td>\n",
              "      <td>Utilities</td>\n",
              "      <td>The amounts expended to heat, cool, and light state owned and/or leased facilities not obtained through the Department of Enterprise Services, where energy costs are not included as part of the monthly lease payments. Also includes the amounts expended for water, sewer, and garbage.</td>\n",
              "    </tr>\n",
              "    <tr>\n",
              "      <th>1001877</th>\n",
              "      <td>Transportation Commission</td>\n",
              "      <td>LITT  JERALD R</td>\n",
              "      <td>Travel</td>\n",
              "      <td>In-State Subsistence &amp; Lodging</td>\n",
              "      <td>The amounts paid for lodging and/or subsistence expenses incurred while traveling within the state's boundary on official state business, including lodging taxes.</td>\n",
              "    </tr>\n",
              "  </tbody>\n",
              "</table>\n",
              "</div>"
            ],
            "text/plain": [
              "                                      AgyTtl  \\\n",
              "458623   Health                                \n",
              "914769   Social and Health Services            \n",
              "795264   Transportation                        \n",
              "901410   Social and Health Services            \n",
              "460150   Corrections                           \n",
              "285065   Licensing                             \n",
              "1001877  Transportation Commission             \n",
              "\n",
              "                                                                                                    Recipient  \\\n",
              "458623   WALDRON  MATTHEW                                                                                       \n",
              "914769   WESTERN WA MEDICAL GROUP                                                                               \n",
              "795264   TUCCI & SONS INC                                                                                       \n",
              "901410   KOSTENKO  BORIS                                                                                        \n",
              "460150   SINCLAIR  STEPHEN D                                                                                    \n",
              "285065   SANITARY SERVICE COMPANY INC                                                                           \n",
              "1001877  LITT  JERALD R                                                                                         \n",
              "\n",
              "                                   ObjectTtl  \\\n",
              "458623   Travel                                \n",
              "914769   Grants, Benefits & Client Services    \n",
              "795264   Capital Outlays                       \n",
              "901410   Grants, Benefits & Client Services    \n",
              "460150   Travel                                \n",
              "285065   Goods and Services                    \n",
              "1001877  Travel                                \n",
              "\n",
              "                                               SubObjectTtl  \\\n",
              "458623   Out-Of-State Subsistence & Lodging                   \n",
              "914769   Direct Payments to Providers                         \n",
              "795264   Highway Construction                                 \n",
              "901410   Direct Payments to Providers                         \n",
              "460150   Other Travel Expenses                                \n",
              "285065   Utilities                                            \n",
              "1001877  In-State Subsistence & Lodging                       \n",
              "\n",
              "                                                                                                                                                                                                                                                                                                                                                                  Description  \n",
              "458623                                                                                                                                                                                                    The amounts paid for lodging and/or subsistence expenses incurred while traveling outside the state's boundary on official state business, including lodging taxes.  \n",
              "914769   Amounts paid under client service contracts entered into for professional, technical or other services, which will result in the delivery of direct services to individual clients. Client services include such items as medical and mental health treatments, and related transportation; job counseling and training; childcare; foster care; and chore services.  \n",
              "795264                                                                                                                                                                                                                                                                       The amounts expended for the construction, improvement, or addition to the state highway system.  \n",
              "901410   Amounts paid under client service contracts entered into for professional, technical or other services, which will result in the delivery of direct services to individual clients. Client services include such items as medical and mental health treatments, and related transportation; job counseling and training; childcare; foster care; and chore services.  \n",
              "460150                The amounts paid for all other costs incurred while traveling on official state business. Includes, but is not limited to: prospective employee interview expenses; employee relocation expenses; rail, bus, ferry, shuttle, or taxi fares; tolls; rental cars; parking fees; stenographic services; telephone calls; and other miscellaneous expenses.  \n",
              "285065                                                                            The amounts expended to heat, cool, and light state owned and/or leased facilities not obtained through the Department of Enterprise Services, where energy costs are not included as part of the monthly lease payments. Also includes the amounts expended for water, sewer, and garbage.  \n",
              "1001877                                                                                                                                                                                                    The amounts paid for lodging and/or subsistence expenses incurred while traveling within the state's boundary on official state business, including lodging taxes.  "
            ]
          },
          "metadata": {
            "tags": []
          },
          "execution_count": 24
        }
      ]
    },
    {
      "metadata": {
        "id": "nDEUT-9jl87y",
        "colab_type": "text"
      },
      "cell_type": "markdown",
      "source": [
        "Obviously, the text features requires further processing.  \n",
        "\n",
        "In order to process the data set's centerpiece, the `Description` body, I utilized the NLTK package to lowercase, tokenize, and remove stopwords and punctuation. Tokenizing treats each word as its own value, while the other steps gets rid of the noise and irrelevant symbols in the data, standardizing the description for analysis. Upon reviewing the performance of text analysis, I decided to implement the Porter Stemmer on the tokens in order to combine words with tense and plurality deviance."
      ]
    },
    {
      "metadata": {
        "id": "gASLA-Mdl87z",
        "colab_type": "text"
      },
      "cell_type": "markdown",
      "source": [
        "First, we should download the stopwords from nltk libray."
      ]
    },
    {
      "metadata": {
        "id": "kA-j1Asvl87z",
        "colab_type": "code",
        "colab": {},
        "outputId": "cfb8f770-446d-4a78-fb6e-b8e2b50730f3"
      },
      "cell_type": "code",
      "source": [
        "nltk.download('stopwords')"
      ],
      "execution_count": 0,
      "outputs": [
        {
          "output_type": "stream",
          "text": [
            "[nltk_data] Downloading package stopwords to /home/ubuntu/nltk_data...\n",
            "[nltk_data]   Package stopwords is already up-to-date!\n"
          ],
          "name": "stdout"
        },
        {
          "output_type": "execute_result",
          "data": {
            "text/plain": [
              "True"
            ]
          },
          "metadata": {
            "tags": []
          },
          "execution_count": 25
        }
      ]
    },
    {
      "metadata": {
        "id": "1T0ptEggl872",
        "colab_type": "code",
        "colab": {}
      },
      "cell_type": "code",
      "source": [
        "ps = PorterStemmer()\n",
        "\n",
        "tokenizer = RegexpTokenizer(r'\\w+')\n",
        "stop_words = set(stopwords.words('english'))\n",
        "\n",
        "def preprocessing(data):\n",
        "    txt = data.str.lower().str.cat(sep=' ') #1\n",
        "    words = tokenizer.tokenize(txt) #2\n",
        "    words = [w for w in words if not w in stop_words] #3\n",
        "    #words = [ps.stem(w) for w in words] #4\n",
        "    return words"
      ],
      "execution_count": 0,
      "outputs": []
    },
    {
      "metadata": {
        "id": "KnVufhRNl874",
        "colab_type": "text"
      },
      "cell_type": "markdown",
      "source": [
        "The help function below creates the word cloud visualization function. A word cloud (as the name suggests) is an image that is made up of a mixture of distinct words which may make up a text or book and where the size of each word is proportional to its word frequency in that text. This function’s mathematical processes are hidden, since it does not explicitly state that it determines the frequency occurrence of each word in relation to the entire dictionary of words. Within the function, the Setting Function Parameter section creates the graphic structure using matplotlib. Then the text is formatted, and the word frequency is determined. Finally, the matplotlib structure is filled with words, where the larger the word size, the higher the word occurrence."
      ]
    },
    {
      "metadata": {
        "id": "pQ5Lakw-l874",
        "colab_type": "code",
        "colab": {}
      },
      "cell_type": "code",
      "source": [
        "stopwords = set(STOPWORDS)\n",
        "size = (10,8)\n",
        "\n",
        "def cloud(text, title, stopwords=stopwords, size=size):\n",
        "    \"\"\"\n",
        "    Function to plot WordCloud\n",
        "    Includes: \n",
        "    \"\"\"\n",
        "    # Setting figure parameters\n",
        "    mpl.rcParams['figure.figsize']=(10.0,10.0)\n",
        "    mpl.rcParams['font.size']=12\n",
        "    mpl.rcParams['savefig.dpi']=100\n",
        "    mpl.rcParams['figure.subplot.bottom']=.1 \n",
        "    \n",
        "    # Processing Text\n",
        "    # Redundant when combined with my Preprocessing function\n",
        "    wordcloud = WordCloud(width=1600, height=800,\n",
        "                          background_color='black',\n",
        "                          stopwords=stopwords,\n",
        "                         ).generate(str(text))\n",
        "    \n",
        "    # Output Visualization\n",
        "    fig = plt.figure(figsize=size, dpi=80, facecolor='k',edgecolor='k')\n",
        "    plt.imshow(wordcloud,interpolation='bilinear')\n",
        "    plt.axis('off')\n",
        "    plt.title(title, fontsize=50,color='y')\n",
        "    plt.tight_layout(pad=0)\n",
        "    plt.show()\n",
        "    \n",
        "# Frequency Calculation [One-Gram]\n",
        "def wordfreqviz(text, x):\n",
        "    word_dist = nltk.FreqDist(text)\n",
        "    top_N = x\n",
        "    rslt = pd.DataFrame(word_dist.most_common(top_N),\n",
        "                    columns=['Word', 'Frequency']).set_index('Word')\n",
        "    matplotlib.style.use('ggplot')\n",
        "    rslt.plot.bar(rot=0)\n",
        "\n",
        "def wordfreq(text, x):\n",
        "    word_dist = nltk.FreqDist(text)\n",
        "    top_N = x\n",
        "    rslt = pd.DataFrame(word_dist.most_common(top_N),\n",
        "                    columns=['Word', 'Frequency']).set_index('Word')\n",
        "    return rslt"
      ],
      "execution_count": 0,
      "outputs": []
    },
    {
      "metadata": {
        "id": "9xhp3azRl875",
        "colab_type": "text"
      },
      "cell_type": "markdown",
      "source": [
        "We can first draw the wordcloud for `Recipient`."
      ]
    },
    {
      "metadata": {
        "id": "nLCNxdbol876",
        "colab_type": "code",
        "colab": {},
        "outputId": "6902e84c-263c-49bc-bf93-0a13acba1047"
      },
      "cell_type": "code",
      "source": [
        "cloud(text= df.Recipient.astype(str).values,\n",
        "      title=\"Recipient\",\n",
        "      stopwords= stop_words,\n",
        "      size = (8,4))"
      ],
      "execution_count": 0,
      "outputs": []
    },
    {
      "metadata": {
        "id": "dBoRRt43l879",
        "colab_type": "code",
        "colab": {},
        "outputId": "51a3fe1e-cdaf-4d07-d5a2-26e204104548"
      },
      "cell_type": "code",
      "source": [
        "cloud(text= df.AgyTtl.astype(str).values,\n",
        "      title=\"AgyTtl\",\n",
        "      stopwords= stop_words,\n",
        "      size = (8,4))"
      ],
      "execution_count": 0,
      "outputs": []
    },
    {
      "metadata": {
        "id": "9pOGyvAjl87-",
        "colab_type": "text"
      },
      "cell_type": "markdown",
      "source": [
        "We can see some key words such as 'MONTAGUE','OFFICE'. Furthermore, we can also create a wordcloud and calculate the words frequency for the `Description`."
      ]
    },
    {
      "metadata": {
        "id": "grc1YJtql87_",
        "colab_type": "code",
        "colab": {},
        "outputId": "9780a1df-0739-46fc-d07a-52d88fc10aad"
      },
      "cell_type": "code",
      "source": [
        "# Description\n",
        "title =\"Description\"\n",
        "temp = df['Description']\n",
        "\n",
        "# Cloud\n",
        "cloud(text= temp.values, title=title,stopwords= stop_words)\n",
        "\n",
        "# Bar Chart\n",
        "wordfreq(preprocessing(temp),20).plot.bar(rot=45, legend=False,figsize=(15,5), color='g',\n",
        "                          title= title)\n",
        "plt.ylabel(\"Occurrence Count\")\n",
        "plt.xlabel(\"Most Frequent Words\")\n",
        "plt.show()"
      ],
      "execution_count": 0,
      "outputs": []
    },
    {
      "metadata": {
        "id": "yXKsCWb5l88B",
        "colab_type": "text"
      },
      "cell_type": "markdown",
      "source": [
        "Next, we check the length of descriptions and its statistics."
      ]
    },
    {
      "metadata": {
        "id": "hNTNEsp7l88B",
        "colab_type": "code",
        "colab": {},
        "outputId": "0315e127-db38-4865-8433-e06c63603f7a"
      },
      "cell_type": "code",
      "source": [
        "lens =df['Description'].str.len()\n",
        "lens.mean(), lens.std(), lens.max()"
      ],
      "execution_count": 0,
      "outputs": [
        {
          "output_type": "execute_result",
          "data": {
            "text/plain": [
              "(338.3556320999595, 140.21604025406702, 1030)"
            ]
          },
          "metadata": {
            "tags": []
          },
          "execution_count": 32
        }
      ]
    },
    {
      "metadata": {
        "id": "dx4nkdsMl88F",
        "colab_type": "code",
        "colab": {},
        "outputId": "d6493885-1a9e-4935-ec7c-eee8f286ae16"
      },
      "cell_type": "code",
      "source": [
        "lens.hist()"
      ],
      "execution_count": 0,
      "outputs": [
        {
          "output_type": "display_data",
          "data": {
            "image/png": "[encoded data removed]",
            "text/plain": [
              "<matplotlib.figure.Figure at 0x7fcf49b60b70>"
            ]
          },
          "metadata": {
            "tags": []
          }
        }
      ]
    },
    {
      "metadata": {
        "id": "nxhKUE6Dl88G",
        "colab_type": "text"
      },
      "cell_type": "markdown",
      "source": [
        "We can see the most descriptions have a length of 400, but the lengths are quite vary!"
      ]
    },
    {
      "metadata": {
        "id": "zehpU-LBl88H",
        "colab_type": "text"
      },
      "cell_type": "markdown",
      "source": [
        "Since this dataset involves with Goverment vendor payment, we can see the most frequent words such as 'Services','client','amounts' and so on, which are very reasonable. "
      ]
    },
    {
      "metadata": {
        "id": "j0xrV6lGl88H",
        "colab_type": "text"
      },
      "cell_type": "markdown",
      "source": [
        "## 3. Feature Engineering \n",
        "\n",
        "After a comprehensive exploration of raw dataset, the next step is the process of create features. Feature engineering is the most important step of machine learning. A mdoel can only learn from the featues it is given, for this dataset we have multiple feature types. So the feature engineering is not only important but also necessary!"
      ]
    },
    {
      "metadata": {
        "id": "7V1Fs7ktl88H",
        "colab_type": "text"
      },
      "cell_type": "markdown",
      "source": [
        "First of all, let's extract the X and y from original data."
      ]
    },
    {
      "metadata": {
        "id": "0meCM17ml88I",
        "colab_type": "code",
        "colab": {}
      },
      "cell_type": "code",
      "source": [
        "X = df[['MonthTtl','FY','FYMo','AgyCode','AgyTtl','Object','SubObject','Recipient','ObjectTtl','SubObjectTtl','Description']]\n",
        "y = df['Amount'].values"
      ],
      "execution_count": 0,
      "outputs": []
    },
    {
      "metadata": {
        "id": "U-TjhnwHl88K",
        "colab_type": "text"
      },
      "cell_type": "markdown",
      "source": [
        "And then we split our data into training and testing sets since our data dimension is relatively large, I set the test size to 0.1."
      ]
    },
    {
      "metadata": {
        "id": "M254O1vWl88O",
        "colab_type": "code",
        "colab": {}
      },
      "cell_type": "code",
      "source": [
        "X_train, X_test, y_train, y_test = train_test_split(X,y, test_size=0.1, random_state=42)"
      ],
      "execution_count": 0,
      "outputs": []
    },
    {
      "metadata": {
        "id": "8CEx5xprl88S",
        "colab_type": "text"
      },
      "cell_type": "markdown",
      "source": [
        "As mentioned before, there are 3 different types of variables. The first thing I want to do is define how to process my variables. Because we have heterogeneous data, a stardard preprocessing doesn't work quite well. So first thing I am going to do is create a selector transformer that simply returns the one column in the dataset by the key value I pass.  \n",
        "I made 3 different selectors for either text, categorical or numerica columns. The introduction of **BaseEstimator** can be found [here](http://scikit-learn.org/stable/modules/generated/sklearn.base.BaseEstimator.html), in a similar way, you can find introduction of **TransformerMixin** from [here](http://scikit-learn.org/stable/modules/generated/sklearn.base.TransformerMixin.html)"
      ]
    },
    {
      "metadata": {
        "id": "QFSJJMFIl88S",
        "colab_type": "code",
        "colab": {}
      },
      "cell_type": "code",
      "source": [
        "from sklearn.base import BaseEstimator, TransformerMixin\n",
        "\n",
        "class TextSelector(BaseEstimator, TransformerMixin):\n",
        "    \"\"\"\n",
        "    Transformer to select a single column from the data frame to perform additional transformations on\n",
        "    Use on text columns in the data\n",
        "    \"\"\"\n",
        "    def __init__(self, key):\n",
        "        self.key = key\n",
        "\n",
        "    def fit(self, X, y=None):\n",
        "        return self\n",
        "\n",
        "    def transform(self, X):\n",
        "        return X[self.key]\n",
        "    \n",
        "class NumberSelector(BaseEstimator, TransformerMixin):\n",
        "    \"\"\"\n",
        "    Transformer to select a single column from the data frame to perform additional transformations on\n",
        "    Use on numeric columns in the data\n",
        "    \"\"\"\n",
        "    def __init__(self, key):\n",
        "        self.key = key\n",
        "\n",
        "    def fit(self, X, y=None):\n",
        "        return self\n",
        "\n",
        "    def transform(self, X):\n",
        "        return X[[self.key]]\n",
        "    \n",
        "class CategoricalSelector(BaseEstimator, TransformerMixin):\n",
        "    \"\"\"\n",
        "    Transformer to select a single column from the data frame to perform additional transformations on\n",
        "    use on categorical columns in the data\n",
        "    \"\"\"\n",
        "    def __init__(self, key):\n",
        "        self.key = key\n",
        "\n",
        "    def fit(self, X, y=None):\n",
        "        return self\n",
        "\n",
        "    def transform(self, X):\n",
        "        return X[[self.key]]"
      ],
      "execution_count": 0,
      "outputs": []
    },
    {
      "metadata": {
        "id": "nORqib9Xl88T",
        "colab_type": "text"
      },
      "cell_type": "markdown",
      "source": [
        "So for every single numerical variable, I apply the **StandardScaler** to normalize them. For the following processing, I will use **Pipeline** to simplify the process. Instead of manually running through each of steps, and then tediously repeating them on the test set, we can get a nice, declarative interface where it's easy to see the entire model."
      ]
    },
    {
      "metadata": {
        "id": "rYqZkv4Il88U",
        "colab_type": "code",
        "colab": {}
      },
      "cell_type": "code",
      "source": [
        "fy =  Pipeline([\n",
        "                ('selector', NumberSelector(key='FY')),\n",
        "                ('standard', StandardScaler())\n",
        "            ])\n",
        "fymo =  Pipeline([\n",
        "                ('selector', NumberSelector(key='FYMo')),\n",
        "                ('standard', StandardScaler())\n",
        "            ])\n",
        "agycode =  Pipeline([\n",
        "                ('selector', NumberSelector(key='AgyCode')),\n",
        "                ('standard', StandardScaler())\n",
        "            ])"
      ],
      "execution_count": 0,
      "outputs": []
    },
    {
      "metadata": {
        "id": "lMjiLE9Il88X",
        "colab_type": "text"
      },
      "cell_type": "markdown",
      "source": [
        "For every categorical variable, it is a little tricky. Because for the scikit-learn, usually we should first apply **LabelEncoder** after that, we can use **OneHotEncoder**. However, for the [version 0.20](http://scikit-learn.org/dev/whats_new.html),The **OneHotEncoder** estimator was given a nice upgrade to encode columns with string values. I gained the information from this [post](https://medium.com/dunder-data/from-pandas-to-scikit-learn-a-new-exciting-workflow-e88e2271ef62)."
      ]
    },
    {
      "metadata": {
        "id": "R-F6u6zZl88X",
        "colab_type": "code",
        "colab": {}
      },
      "cell_type": "code",
      "source": [
        "obj =  Pipeline([\n",
        "                ('selector', CategoricalSelector(key='Object')),\n",
        "                ('labelencoder', OneHotEncoder())\n",
        "            ])\n",
        "subobject =  Pipeline([\n",
        "                ('selector', CategoricalSelector(key='SubObject')),\n",
        "                ('labelencoder', OneHotEncoder())\n",
        "            ])"
      ],
      "execution_count": 0,
      "outputs": []
    },
    {
      "metadata": {
        "id": "gD8Zpt-dl88Z",
        "colab_type": "text"
      },
      "cell_type": "markdown",
      "source": [
        "For the text varialbes, I used two different strategies, for the shor phrase variables, `AgyTtl`, `ObjectTtl` and `SubObjectTtl`, I used the **CountVectorizer** to create featurs vecotrs. On the other hand, for `Recipient` and `Description` I used **TF-IDF** (Term Frequency times inverse document frquency) to reduce the weightage of more common words which occus in all document. After that I applied **TruncatedSVD** to maintain the most important features."
      ]
    },
    {
      "metadata": {
        "id": "xOiZfa38l88Z",
        "colab_type": "code",
        "colab": {}
      },
      "cell_type": "code",
      "source": [
        "agyttl = Pipeline([\n",
        "                ('selector', TextSelector(key='AgyTtl')),\n",
        "                ('cvt', CountVectorizer(analyzer='word',token_pattern=r'\\w{1,}',\n",
        "            ngram_range=(1, 3), stop_words = 'english')\n",
        "                )])\n",
        "\n",
        "recipient = Pipeline([\n",
        "                ('selector', TextSelector(key='Recipient')),\n",
        "                ('tfidf', TfidfVectorizer(min_df=3,  max_features=None, \n",
        "            strip_accents='unicode', analyzer='word',token_pattern=r'\\w{1,}',\n",
        "            ngram_range=(1, 3), use_idf=1,smooth_idf=1,sublinear_tf=1,\n",
        "            stop_words = stop_words)),\n",
        "                ('svd', TruncatedSVD(algorithm='randomized', n_components=100)\n",
        "                )])\n",
        "\n",
        "objectttl = Pipeline([\n",
        "                ('selector', TextSelector(key='ObjectTtl')),\n",
        "            ('cvt', CountVectorizer(analyzer='word',token_pattern=r'\\w{1,}',\n",
        "                ngram_range=(1, 3), stop_words = 'english')\n",
        "            )])\n",
        "\n",
        "subobjectTtl = Pipeline([\n",
        "                ('selector', TextSelector(key='SubObjectTtl')),\n",
        "                ('cvt', CountVectorizer(analyzer='word',token_pattern=r'\\w{1,}',\n",
        "                    ngram_range=(1, 3), stop_words = 'english')\n",
        "                )])\n",
        "\n",
        "description = Pipeline([\n",
        "                ('selector', TextSelector(key='Description')),\n",
        "                ('tfidf', TfidfVectorizer(min_df=3,  max_features=None, \n",
        "            strip_accents='unicode', analyzer='word',token_pattern=r'\\w{1,}',\n",
        "            ngram_range=(1, 3), use_idf=1,smooth_idf=1,sublinear_tf=1,\n",
        "            stop_words = stop_words)),\n",
        "                ('svd', TruncatedSVD(algorithm='randomized', n_components=300)\n",
        "                )])"
      ],
      "execution_count": 0,
      "outputs": []
    },
    {
      "metadata": {
        "id": "QdUbknMUl88b",
        "colab_type": "text"
      },
      "cell_type": "markdown",
      "source": [
        "We can use **FeatureUnion** to model these parallel processes. For training set, we should transform and then fit them into pipelines, but for the testing set, we should only transform them."
      ]
    },
    {
      "metadata": {
        "id": "aFwdxN8gl88c",
        "colab_type": "code",
        "colab": {}
      },
      "cell_type": "code",
      "source": [
        "features = FeatureUnion([('Fy', fy), \n",
        "                      ('FYMo', fymo),\n",
        "                      ('AgyCode', agycode),\n",
        "                      ('Object', obj),\n",
        "                      ('SubObject', subobject),\n",
        "                      ('AgyTtl', agyttl),\n",
        "                      ('Recipient',recipient),\n",
        "                      ('ObjectTtl',objectttl),\n",
        "                      ('SubObjectTtl',subobjectTtl),\n",
        "                        ('Description',description)])\n",
        "\n",
        "feature_processing = Pipeline([('features', features)])\n",
        "X_trans = feature_processing.fit_transform(X_train)"
      ],
      "execution_count": 0,
      "outputs": []
    },
    {
      "metadata": {
        "id": "UUndVDB6l88d",
        "colab_type": "code",
        "colab": {}
      },
      "cell_type": "code",
      "source": [
        "X_test_trans = feature_processing.transform(X_test)"
      ],
      "execution_count": 0,
      "outputs": []
    },
    {
      "metadata": {
        "id": "ymXZD1EXl88e",
        "colab_type": "code",
        "colab": {},
        "outputId": "e9e3269a-a7d2-425a-e17e-ce616a95c99d"
      },
      "cell_type": "code",
      "source": [
        "X_trans"
      ],
      "execution_count": 0,
      "outputs": [
        {
          "output_type": "execute_result",
          "data": {
            "text/plain": [
              "<1367833x1207 sparse matrix of type '<class 'numpy.float64'>'\n",
              "\twith 575958493 stored elements in Compressed Sparse Row format>"
            ]
          },
          "metadata": {
            "tags": []
          },
          "execution_count": 41
        }
      ]
    },
    {
      "metadata": {
        "id": "r4hCpJbyl88h",
        "colab_type": "text"
      },
      "cell_type": "markdown",
      "source": [
        "After feature processing, we got a massive sparse matrix, we first convert the Numpy array into a sparse matrix using `csr_matrix()` function. And then convert them into dense matrix for the next processing!"
      ]
    },
    {
      "metadata": {
        "id": "LqJ_9nr1l88i",
        "colab_type": "code",
        "colab": {}
      },
      "cell_type": "code",
      "source": [
        "from scipy.sparse import csr_matrix\n",
        "X_train_csr = csr_matrix(X_trans)\n",
        "X_train_dense = X_train_csr.todense()\n",
        "X_test_csr = csr_matrix(X_test_trans)\n",
        "X_test_dense = X_test_csr.todense()"
      ],
      "execution_count": 0,
      "outputs": []
    },
    {
      "metadata": {
        "id": "gNYwpsY5l88k",
        "colab_type": "code",
        "colab": {},
        "outputId": "954c87da-baf9-4237-ca4c-21d555f374b2"
      },
      "cell_type": "code",
      "source": [
        "X_train_csr"
      ],
      "execution_count": 0,
      "outputs": [
        {
          "output_type": "execute_result",
          "data": {
            "text/plain": [
              "<1367833x1207 sparse matrix of type '<class 'numpy.float64'>'\n",
              "\twith 575958493 stored elements in Compressed Sparse Row format>"
            ]
          },
          "metadata": {
            "tags": []
          },
          "execution_count": 67
        }
      ]
    },
    {
      "metadata": {
        "id": "Nz4BicUUl88l",
        "colab_type": "text"
      },
      "cell_type": "markdown",
      "source": [
        "Because the feature dimensions are too large, a natural way is to use PCA to reduce the dimensions of features. "
      ]
    },
    {
      "metadata": {
        "id": "p5_0WbMal88m",
        "colab_type": "code",
        "colab": {},
        "outputId": "4aaf3ae6-628f-4dcb-e153-3d040c516f05"
      },
      "cell_type": "code",
      "source": [
        "from sklearn.decomposition import PCA\n",
        "pca = PCA(0.98)\n",
        "\n",
        "X_train_pca = pca.fit_transform(X_train_dense)\n",
        "X_test_pca = pca.transform(X_test_dense)\n",
        "\n",
        "pca.n_components_"
      ],
      "execution_count": 0,
      "outputs": [
        {
          "output_type": "execute_result",
          "data": {
            "text/plain": [
              "77"
            ]
          },
          "metadata": {
            "tags": []
          },
          "execution_count": 55
        }
      ]
    },
    {
      "metadata": {
        "id": "HEFpRa6Hl88p",
        "colab_type": "text"
      },
      "cell_type": "markdown",
      "source": [
        "After PCA, we have only 77 components but contains over 98% explained variance. "
      ]
    },
    {
      "metadata": {
        "id": "ML260JW5l88p",
        "colab_type": "text"
      },
      "cell_type": "markdown",
      "source": [
        "The transformation to PCA is very time consuming, for the reproductive reason, we can use `Pickle` to save those variables locally, and then reload them!"
      ]
    },
    {
      "metadata": {
        "id": "2rI7VJuOl88p",
        "colab_type": "code",
        "colab": {},
        "outputId": "b857c8c0-c785-42ea-9da9-502b85195abe"
      },
      "cell_type": "code",
      "source": [
        "'''\n",
        "Thd code below is for saving two variables locally. \n",
        "'''\n",
        "pickle.dump(X_train_pca, open('X_train_pca.pkl','wb'),-1)\n",
        "pickle.dump(X_test_pca, open('X_test_pca.pkl','wb'),-1)\n",
        "\n",
        "'''\n",
        "The code below can be uncommented, if you wish to \n",
        "load these two variables locally.\n",
        "'''\n",
        "#X_train_pca = open('X_train_pca.pkl','rb')\n",
        "#X_train_pca = pickle.load(X_train_pca)\n",
        "#X_test_pca = open('X_test_pca.pkl','rb')\n",
        "#X_test_pca = pickle.load(X_test_pca)"
      ],
      "execution_count": 0,
      "outputs": [
        {
          "output_type": "execute_result",
          "data": {
            "text/plain": [
              "'\\nThe code below can be uncommented, if you wish to \\nload these two variables locally.\\n'"
            ]
          },
          "metadata": {
            "tags": []
          },
          "execution_count": 56
        }
      ]
    },
    {
      "metadata": {
        "id": "N2ZQ6pG6l88r",
        "colab_type": "text"
      },
      "cell_type": "markdown",
      "source": [
        "## 4. Machine Learning"
      ]
    },
    {
      "metadata": {
        "id": "FXlYrGpml88r",
        "colab_type": "text"
      },
      "cell_type": "markdown",
      "source": [
        "Now that We have built a few potentially useful featues, we can use them for machine learning, training a algorithm to predict the target from the features. For such a huge dataset, a highly complex ensemble model is recommonended, here I will use XGBoost."
      ]
    },
    {
      "metadata": {
        "id": "qGI6tS-Pl88s",
        "colab_type": "text"
      },
      "cell_type": "markdown",
      "source": [
        "### 4.1 Using XGBoost"
      ]
    },
    {
      "metadata": {
        "id": "fVNagch8l88t",
        "colab_type": "code",
        "colab": {}
      },
      "cell_type": "code",
      "source": [
        "dtrain = xgb.DMatrix(X_train_pca, y_train)\n",
        "dtest = xgb.DMatrix(X_test_pca, y_test)\n",
        "\n",
        "'''\n",
        "The code below is used to save variable locally\n",
        "'''\n",
        "dtrain.save_binary('train.buffer')\n",
        "dtest.save_binary('test.buffer')"
      ],
      "execution_count": 0,
      "outputs": []
    },
    {
      "metadata": {
        "id": "KP-36hCJl88u",
        "colab_type": "code",
        "colab": {},
        "outputId": "b6db0ea6-77b1-44af-cc20-659dfc864499"
      },
      "cell_type": "code",
      "source": [
        "'''\n",
        "The code below is used in case you\n",
        "want to load the binary file locally.\n",
        "'''\n",
        "dtrain = xgb.DMatrix('train.buffer')\n",
        "dtest = xgb.DMatrix('test.buffer')"
      ],
      "execution_count": 0,
      "outputs": [
        {
          "output_type": "stream",
          "text": [
            "[06:24:38] 1367833x77 matrix with 105323141 entries loaded from train.buffer\n",
            "[06:24:38] 151982x77 matrix with 11702614 entries loaded from test.buffer\n"
          ],
          "name": "stdout"
        }
      ]
    },
    {
      "metadata": {
        "id": "gkdNREbYl88y",
        "colab_type": "text"
      },
      "cell_type": "markdown",
      "source": [
        "Below we first define the parameters fed into xgboost models. To evaluate the performance of the regression model, we define a **xgb_r2_score** manually, r2 score is a optimal metrics for regression problem. "
      ]
    },
    {
      "metadata": {
        "id": "TG_am-cwl88y",
        "colab_type": "code",
        "colab": {},
        "outputId": "900da365-2e65-4dbe-bbc7-5ba9f9b24e3a"
      },
      "cell_type": "code",
      "source": [
        "params = {'tree_method': 'gpu_hist', 'max_depth': 10, 'learning_rate': 0.05,'min_child_weight': 6,\n",
        "         'n_estimators':100, 'colsample_bytree':0.8, 'objective':'gpu:reg:linear',\n",
        "         'n_jobs':-1, 'subsample':0.8, 'silent':False, 'eval_metric':\"mae\"}\n",
        "\n",
        "watchlist = [(dtrain, 'train'), (dtest, 'valid')]\n",
        "\n",
        "model = xgb.train(params, dtrain, 1000,watchlist,verbose_eval=10,early_stopping_rounds=50)\n",
        "\n",
        "prediction = model.predict(dtest)\n",
        "\n",
        "print(\"Best MAE: {:.2f} with {} rounds\".format(\n",
        "                 model.best_score,\n",
        "                 model.best_iteration+1))"
      ],
      "execution_count": 0,
      "outputs": [
        {
          "output_type": "stream",
          "text": [
            "[0]\ttrain-mae:8187.35\tvalid-mae:7876.12\n",
            "Multiple eval metrics have been passed: 'valid-mae' will be used for early stopping.\n",
            "\n",
            "Will train until valid-mae hasn't improved in 50 rounds.\n",
            "[10]\ttrain-mae:8155.49\tvalid-mae:7916.19\n",
            "[20]\ttrain-mae:8705.72\tvalid-mae:8532.63\n",
            "[30]\ttrain-mae:9088.11\tvalid-mae:8977.01\n",
            "[40]\ttrain-mae:9312.86\tvalid-mae:9238.37\n",
            "[50]\ttrain-mae:9390.32\tvalid-mae:9361.27\n",
            "Stopping. Best iteration:\n",
            "[3]\ttrain-mae:7944.92\tvalid-mae:7661.21\n",
            "\n",
            "Best MAE: 7661.21 with 4 rounds\n"
          ],
          "name": "stdout"
        }
      ]
    },
    {
      "metadata": {
        "id": "4fb_8DMbl882",
        "colab_type": "code",
        "colab": {}
      },
      "cell_type": "code",
      "source": [
        "'''\n",
        "The code below is used to search the hyperparameter\n",
        "of xgboost by using Gaussian Process\n",
        "'''\n",
        "X_train_pca = open('X_train_pca.pkl','rb')\n",
        "X_train_pca = pickle.load(X_train_pca)\n",
        "X_test_pca = open('X_test_pca.pkl','rb')\n",
        "X_test_pca = pickle.load(X_test_pca)"
      ],
      "execution_count": 0,
      "outputs": []
    },
    {
      "metadata": {
        "id": "gnaXVJEhl883",
        "colab_type": "text"
      },
      "cell_type": "markdown",
      "source": [
        "### 4.2 Hyperparameter Optimization Using Gaussian Process"
      ]
    },
    {
      "metadata": {
        "id": "wAEanWMtl883",
        "colab_type": "text"
      },
      "cell_type": "markdown",
      "source": [
        "There are many ways to optimize the hyperparameters of xgboost, such as Gridsearch and Randomsearch. I would like to use Bayesian Optimization to find the best hyperparameters. [Scikit-Optimize](https://scikit-optimize.github.io/#skopt.gp_minimize) provides a function `gp_minimize` implenment Bayesian optimization using Gaussian Processes. "
      ]
    },
    {
      "metadata": {
        "id": "LcZhRaiil883",
        "colab_type": "text"
      },
      "cell_type": "markdown",
      "source": [
        "First, we define the search space for Gaussian Processes. These parameters are almost the most important for the xgboost!"
      ]
    },
    {
      "metadata": {
        "id": "SkkHf-btl883",
        "colab_type": "code",
        "colab": {}
      },
      "cell_type": "code",
      "source": [
        "space = [Integer(0, 5, name='min_child_weight'),\n",
        "         Integer(8, 256, name='n_estimators'),\n",
        "         Integer(0, 20, name='max_depth'),\n",
        "         Integer(0, 10, name='max_delta_step'),\n",
        "         Real(10**-2, 10**0,\"log-uniform\", name='subsample'),\n",
        "         Real(10**-2, 10**0,\"log-uniform\", name='colsample_bytree'),\n",
        "         Real(10**-2, 10**0,\"log-uniform\", name='colsample_bylevel'),\n",
        "         Real(10**-2, 10**0,\"log-uniform\", name='learning_rate'),]"
      ],
      "execution_count": 0,
      "outputs": []
    },
    {
      "metadata": {
        "id": "2FJoSvk3l885",
        "colab_type": "text"
      },
      "cell_type": "markdown",
      "source": [
        "Next, we define a xgboost estimator, here in order to utilize the power of GPU, I difine the `objective` and `tree_method` to accelerate the training process, since this process can take much time without GPU. In case you don't have a GPU available, just modify the `gpu:reg:linear` to `reg:linear` and `gpu_hist` to `auto`."
      ]
    },
    {
      "metadata": {
        "id": "z8er5ClRl885",
        "colab_type": "code",
        "colab": {}
      },
      "cell_type": "code",
      "source": [
        "estimator = xgb.XGBRegressor(\n",
        "        n_jobs = -1,\n",
        "        objective = 'gpu:reg:linear',\n",
        "        eval_metric = 'mae',\n",
        "        silent=0,\n",
        "        tree_method='gpu_hist')"
      ],
      "execution_count": 0,
      "outputs": []
    },
    {
      "metadata": {
        "id": "oNEVHA2yl886",
        "colab_type": "text"
      },
      "cell_type": "markdown",
      "source": [
        "This decorator allows our objective function to receive a the parameters as keyword arguments. This is particularly convenient when you want to set scikit-learn, here we use **cross_val_score** from scikit-learn to evaluate the performance of our estimator."
      ]
    },
    {
      "metadata": {
        "id": "ma8xAArOl886",
        "colab_type": "code",
        "colab": {}
      },
      "cell_type": "code",
      "source": [
        "@use_named_args(space)\n",
        "def objective(**params):\n",
        "    estimator.set_params(**params)\n",
        "    return -np.mean(cross_val_score(estimator, X_train_pca, y_train, cv=5, n_jobs=-1, scoring='neg_mean_absolute_error'))"
      ],
      "execution_count": 0,
      "outputs": []
    },
    {
      "metadata": {
        "id": "NWe5UkWtl889",
        "colab_type": "text"
      },
      "cell_type": "markdown",
      "source": [
        "Because the size of dataset, this process can take much time than expected, so I only use 20 iterations!"
      ]
    },
    {
      "metadata": {
        "id": "URd7BUjGl889",
        "colab_type": "code",
        "colab": {},
        "collapsed": true,
        "outputId": "8710ab14-2af8-47d2-9f44-1b1be105087f"
      },
      "cell_type": "code",
      "source": [
        "reg_gp = gp_minimize(objective, space, verbose=True, n_jobs=-1, n_calls=20)\n",
        "\n",
        "print('best score: {}'.format(reg_gp.fun))"
      ],
      "execution_count": 0,
      "outputs": [
        {
          "output_type": "stream",
          "text": [
            "Iteration No: 1 started. Evaluating function at random point.\n",
            "Iteration No: 1 ended. Evaluation done at random point.\n",
            "Time taken: 62.0855\n",
            "Function value obtained: 8426.9477\n",
            "Current minimum: 8426.9477\n",
            "Iteration No: 2 started. Evaluating function at random point.\n",
            "Iteration No: 2 ended. Evaluation done at random point.\n",
            "Time taken: 165.4057\n",
            "Function value obtained: 8404.8981\n",
            "Current minimum: 8404.8981\n",
            "Iteration No: 3 started. Evaluating function at random point.\n",
            "Iteration No: 3 ended. Evaluation done at random point.\n",
            "Time taken: 48.0012\n",
            "Function value obtained: 8423.3537\n",
            "Current minimum: 8404.8981\n",
            "Iteration No: 4 started. Evaluating function at random point.\n",
            "Iteration No: 4 ended. Evaluation done at random point.\n",
            "Time taken: 100.6772\n",
            "Function value obtained: 8409.9311\n",
            "Current minimum: 8404.8981\n",
            "Iteration No: 5 started. Evaluating function at random point.\n",
            "Iteration No: 5 ended. Evaluation done at random point.\n",
            "Time taken: 164.8862\n",
            "Function value obtained: 8261.1210\n",
            "Current minimum: 8261.1210\n",
            "Iteration No: 6 started. Evaluating function at random point.\n",
            "Iteration No: 6 ended. Evaluation done at random point.\n",
            "Time taken: 114.7841\n",
            "Function value obtained: 8382.8980\n",
            "Current minimum: 8261.1210\n",
            "Iteration No: 7 started. Evaluating function at random point.\n",
            "Iteration No: 7 ended. Evaluation done at random point.\n",
            "Time taken: 31.6401\n",
            "Function value obtained: 8408.2738\n",
            "Current minimum: 8261.1210\n",
            "Iteration No: 8 started. Evaluating function at random point.\n",
            "Iteration No: 8 ended. Evaluation done at random point.\n",
            "Time taken: 45.4206\n",
            "Function value obtained: 8412.2249\n",
            "Current minimum: 8261.1210\n",
            "Iteration No: 9 started. Evaluating function at random point.\n",
            "Iteration No: 9 ended. Evaluation done at random point.\n",
            "Time taken: 111.9183\n",
            "Function value obtained: 8204.8506\n",
            "Current minimum: 8204.8506\n",
            "Iteration No: 10 started. Evaluating function at random point.\n",
            "Iteration No: 10 ended. Evaluation done at random point.\n",
            "Time taken: 44.8797\n",
            "Function value obtained: 8399.2153\n",
            "Current minimum: 8204.8506\n",
            "Iteration No: 11 started. Searching for the next optimal point.\n",
            "Iteration No: 11 ended. Search finished for the next optimal point.\n",
            "Time taken: 103.3337\n",
            "Function value obtained: 8233.5305\n",
            "Current minimum: 8204.8506\n",
            "Iteration No: 12 started. Searching for the next optimal point.\n",
            "Iteration No: 12 ended. Search finished for the next optimal point.\n",
            "Time taken: 65.9213\n",
            "Function value obtained: 8426.9236\n",
            "Current minimum: 8204.8506\n",
            "Iteration No: 13 started. Searching for the next optimal point.\n",
            "Iteration No: 13 ended. Search finished for the next optimal point.\n",
            "Time taken: 163.5017\n",
            "Function value obtained: 8284.9476\n",
            "Current minimum: 8204.8506\n",
            "Iteration No: 14 started. Searching for the next optimal point.\n",
            "Iteration No: 14 ended. Search finished for the next optimal point.\n",
            "Time taken: 108.9384\n",
            "Function value obtained: 8358.1685\n",
            "Current minimum: 8204.8506\n",
            "Iteration No: 15 started. Searching for the next optimal point.\n",
            "Iteration No: 15 ended. Search finished for the next optimal point.\n",
            "Time taken: 114.9244\n",
            "Function value obtained: 8380.6185\n",
            "Current minimum: 8204.8506\n",
            "Iteration No: 16 started. Searching for the next optimal point.\n",
            "Iteration No: 16 ended. Search finished for the next optimal point.\n",
            "Time taken: 107.5878\n",
            "Function value obtained: 8243.6718\n",
            "Current minimum: 8204.8506\n",
            "Iteration No: 17 started. Searching for the next optimal point.\n",
            "Iteration No: 17 ended. Search finished for the next optimal point.\n",
            "Time taken: 105.0828\n",
            "Function value obtained: 8245.7311\n",
            "Current minimum: 8204.8506\n",
            "Iteration No: 18 started. Searching for the next optimal point.\n",
            "Iteration No: 18 ended. Search finished for the next optimal point.\n",
            "Time taken: 105.3578\n",
            "Function value obtained: 8247.3585\n",
            "Current minimum: 8204.8506\n",
            "Iteration No: 19 started. Searching for the next optimal point.\n",
            "Iteration No: 19 ended. Search finished for the next optimal point.\n",
            "Time taken: 113.7239\n",
            "Function value obtained: 8196.8878\n",
            "Current minimum: 8196.8878\n",
            "Iteration No: 20 started. Searching for the next optimal point.\n",
            "Iteration No: 20 ended. Search finished for the next optimal point.\n",
            "Time taken: 120.3190\n",
            "Function value obtained: 8214.4835\n",
            "Current minimum: 8196.8878\n",
            "best score: 8196.88780602968\n"
          ],
          "name": "stdout"
        }
      ]
    },
    {
      "metadata": {
        "id": "rolRbKKGl89B",
        "colab_type": "text"
      },
      "cell_type": "markdown",
      "source": [
        "We can now print our parameters out!"
      ]
    },
    {
      "metadata": {
        "id": "7X37nM8Sl89B",
        "colab_type": "code",
        "colab": {},
        "outputId": "26647fdf-4162-4b7d-c8bf-b7088921b643"
      },
      "cell_type": "code",
      "source": [
        "print(\"\"\"Best parameters:\n",
        "- min_child_weight=%d\n",
        "- n_estimators=%d\n",
        "- max_depth=%d\n",
        "- max_delta_step=%d\n",
        "- subsample=%.3f\n",
        "- colsample_bytree=%.3f\n",
        "- colsample_bylevel=%.3f\n",
        "- learning_rate=%.4f\"\"\" % (reg_gp.x[0], reg_gp.x[1], \n",
        "                            reg_gp.x[2], reg_gp.x[3], \n",
        "                            reg_gp.x[4], reg_gp.x[5],\n",
        "                          reg_gp.x[6], reg_gp.x[7]))"
      ],
      "execution_count": 0,
      "outputs": [
        {
          "output_type": "stream",
          "text": [
            "Best parameters:\n",
            "- min_child_weight=3\n",
            "- n_estimators=157\n",
            "- max_depth=1\n",
            "- max_delta_step=10\n",
            "- subsample=0.474\n",
            "- colsample_bytree=0.102\n",
            "- colsample_bylevel=0.659\n",
            "- learning_rate=0.4620\n"
          ],
          "name": "stdout"
        }
      ]
    },
    {
      "metadata": {
        "id": "PK9R5NZRl89E",
        "colab_type": "text"
      },
      "cell_type": "markdown",
      "source": [
        "The plot below shows the convergence of Gaussian Process, we can see that the evaluation metric decreases with the increasing of iterations."
      ]
    },
    {
      "metadata": {
        "id": "YvG_xL2pl89F",
        "colab_type": "code",
        "colab": {},
        "outputId": "83037d88-0688-48e7-ba6d-456d6dcaa851"
      },
      "cell_type": "code",
      "source": [
        "from skopt.plots import plot_convergence\n",
        "\n",
        "plot_convergence(reg_gp)"
      ],
      "execution_count": 0,
      "outputs": [
        {
          "output_type": "execute_result",
          "data": {
            "text/plain": [
              "<matplotlib.axes._subplots.AxesSubplot at 0x7fcf47f2c860>"
            ]
          },
          "metadata": {
            "tags": []
          },
          "execution_count": 20
        },
        {
          "output_type": "display_data",
          "data": {
            "image/png": "[encoded data removed]",
            "text/plain": [
              "<matplotlib.figure.Figure at 0x7fcf48121f60>"
            ]
          },
          "metadata": {
            "tags": []
          }
        }
      ]
    },
    {
      "metadata": {
        "id": "bL_MiHcsl89H",
        "colab_type": "text"
      },
      "cell_type": "markdown",
      "source": [
        "After having the optimized parameters, we can retrain our model."
      ]
    },
    {
      "metadata": {
        "id": "52JWmHwel89H",
        "colab_type": "code",
        "colab": {},
        "outputId": "5f1501a7-236f-42f7-b755-2ae577e9312d"
      },
      "cell_type": "code",
      "source": [
        "params = {'tree_method': 'gpu_hist', 'max_depth': 1, 'learning_rate': 0.4620,'min_child_weight': 3,\n",
        "         'n_estimators':157, 'colsample_bytree':0.102, 'objective':'gpu:reg:linear','max_delta_step':10,\n",
        "         'n_jobs':-1, 'subsample':0.474, 'colsample_bylevel':0.659,'silent':False, 'eval_metric':\"mae\"}\n",
        "\n",
        "def xgb_r2_score(preds, dtrain):\n",
        "    labels = dtrain.get_label()\n",
        "    return 'r2', r2_score(labels, preds)\n",
        "\n",
        "watchlist = [(dtrain, 'train'), (dtest, 'valid')]\n",
        "\n",
        "opti_model = xgb.train(params, dtrain, 1000,watchlist,verbose_eval=10,early_stopping_rounds=50)\n",
        "\n",
        "prediction = opti_model.predict(dtest)\n",
        "\n",
        "print(\"Best MAE: {:.2f} with {} rounds\".format(\n",
        "                 opti_model.best_score,\n",
        "                 opti_model.best_iteration+1))"
      ],
      "execution_count": 0,
      "outputs": [
        {
          "output_type": "stream",
          "text": [
            "[0]\ttrain-mae:8423.45\tvalid-mae:8105.74\n",
            "Multiple eval metrics have been passed: 'valid-mae' will be used for early stopping.\n",
            "\n",
            "Will train until valid-mae hasn't improved in 50 rounds.\n",
            "[10]\ttrain-mae:8384.36\tvalid-mae:8066.73\n",
            "[20]\ttrain-mae:8353.17\tvalid-mae:8035.63\n",
            "[30]\ttrain-mae:8327.19\tvalid-mae:8009.81\n",
            "[40]\ttrain-mae:8305.01\tvalid-mae:7987.87\n",
            "[50]\ttrain-mae:8285.99\tvalid-mae:7969.1\n",
            "[60]\ttrain-mae:8269.29\tvalid-mae:7952.64\n",
            "[70]\ttrain-mae:8254.62\tvalid-mae:7938.22\n",
            "[80]\ttrain-mae:8242.33\tvalid-mae:7926.2\n",
            "[90]\ttrain-mae:8231.97\tvalid-mae:7916.06\n",
            "[100]\ttrain-mae:8222.48\tvalid-mae:7906.75\n",
            "[110]\ttrain-mae:8214.54\tvalid-mae:7898.96\n",
            "[120]\ttrain-mae:8208.5\tvalid-mae:7893.07\n",
            "[130]\ttrain-mae:8203.22\tvalid-mae:7887.93\n",
            "[140]\ttrain-mae:8200.45\tvalid-mae:7885.26\n",
            "[150]\ttrain-mae:8196.83\tvalid-mae:7881.73\n",
            "[160]\ttrain-mae:8197.08\tvalid-mae:7882.06\n",
            "[170]\ttrain-mae:8198.67\tvalid-mae:7883.73\n",
            "[180]\ttrain-mae:8199.15\tvalid-mae:7884.22\n",
            "[190]\ttrain-mae:8202.3\tvalid-mae:7887.38\n",
            "Stopping. Best iteration:\n",
            "[149]\ttrain-mae:8196.83\tvalid-mae:7881.72\n",
            "\n",
            "Best MAE: 7881.72 with 150 rounds\n"
          ],
          "name": "stdout"
        }
      ]
    },
    {
      "metadata": {
        "id": "i3U3JmKjl89J",
        "colab_type": "text"
      },
      "cell_type": "markdown",
      "source": [
        "Compare to our first model, we have increased the performance of our model both on training and testing set. So I decided to use this model to predict the final Amouts!"
      ]
    },
    {
      "metadata": {
        "id": "UGivVrqBl89J",
        "colab_type": "code",
        "colab": {},
        "outputId": "d908d7d5-92a9-4581-fb3d-c89fc4260dca"
      },
      "cell_type": "code",
      "source": [
        "result = pd.DataFrame({'predicttion': prediction[:10], 'actual': y_test[:10]})\n",
        "result"
      ],
      "execution_count": 0,
      "outputs": [
        {
          "output_type": "execute_result",
          "data": {
            "text/html": [
              "<div>\n",
              "<style scoped>\n",
              "    .dataframe tbody tr th:only-of-type {\n",
              "        vertical-align: middle;\n",
              "    }\n",
              "\n",
              "    .dataframe tbody tr th {\n",
              "        vertical-align: top;\n",
              "    }\n",
              "\n",
              "    .dataframe thead th {\n",
              "        text-align: right;\n",
              "    }\n",
              "</style>\n",
              "<table border=\"1\" class=\"dataframe\">\n",
              "  <thead>\n",
              "    <tr style=\"text-align: right;\">\n",
              "      <th></th>\n",
              "      <th>actual</th>\n",
              "      <th>predicttion</th>\n",
              "    </tr>\n",
              "  </thead>\n",
              "  <tbody>\n",
              "    <tr>\n",
              "      <th>0</th>\n",
              "      <td>1150.500</td>\n",
              "      <td>7731.862</td>\n",
              "    </tr>\n",
              "    <tr>\n",
              "      <th>1</th>\n",
              "      <td>1238.990</td>\n",
              "      <td>1498.230</td>\n",
              "    </tr>\n",
              "    <tr>\n",
              "      <th>2</th>\n",
              "      <td>441.810</td>\n",
              "      <td>1364.226</td>\n",
              "    </tr>\n",
              "    <tr>\n",
              "      <th>3</th>\n",
              "      <td>4548.350</td>\n",
              "      <td>2476.102</td>\n",
              "    </tr>\n",
              "    <tr>\n",
              "      <th>4</th>\n",
              "      <td>780.000</td>\n",
              "      <td>1875.015</td>\n",
              "    </tr>\n",
              "    <tr>\n",
              "      <th>5</th>\n",
              "      <td>10100.360</td>\n",
              "      <td>10815.380</td>\n",
              "    </tr>\n",
              "    <tr>\n",
              "      <th>6</th>\n",
              "      <td>625.860</td>\n",
              "      <td>1973.059</td>\n",
              "    </tr>\n",
              "    <tr>\n",
              "      <th>7</th>\n",
              "      <td>1341.000</td>\n",
              "      <td>4591.785</td>\n",
              "    </tr>\n",
              "    <tr>\n",
              "      <th>8</th>\n",
              "      <td>2.660</td>\n",
              "      <td>2440.937</td>\n",
              "    </tr>\n",
              "    <tr>\n",
              "      <th>9</th>\n",
              "      <td>378.760</td>\n",
              "      <td>6366.144</td>\n",
              "    </tr>\n",
              "  </tbody>\n",
              "</table>\n",
              "</div>"
            ],
            "text/plain": [
              "     actual  predicttion\n",
              "0  1150.500     7731.862\n",
              "1  1238.990     1498.230\n",
              "2   441.810     1364.226\n",
              "3  4548.350     2476.102\n",
              "4   780.000     1875.015\n",
              "5 10100.360    10815.380\n",
              "6   625.860     1973.059\n",
              "7  1341.000     4591.785\n",
              "8     2.660     2440.937\n",
              "9   378.760     6366.144"
            ]
          },
          "metadata": {
            "tags": []
          },
          "execution_count": 29
        }
      ]
    },
    {
      "metadata": {
        "id": "a4KFGD7rl89N",
        "colab_type": "text"
      },
      "cell_type": "markdown",
      "source": [
        "## 5. Final Thought"
      ]
    },
    {
      "metadata": {
        "id": "qelahqlVl89O",
        "colab_type": "text"
      },
      "cell_type": "markdown",
      "source": [
        "It turns out, the performance of this model isn't quite satisfactory. There are many ways that I can keep improving the final performance. An intuitive way is to use more iterations to search suitable parameters using Gaussian Process. On the other hand, such a huge dataset can also fed into a Deep Learning Algorithm, such as MLP (Multilayer perceptron). A handy way is stack more models to a complex ensemble models!"
      ]
    }
  ]
}